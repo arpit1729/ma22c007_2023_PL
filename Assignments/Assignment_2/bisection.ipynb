{
  "nbformat": 4,
  "nbformat_minor": 0,
  "metadata": {
    "colab": {
      "provenance": [],
      "authorship_tag": "ABX9TyOVPTHpX/Yc1IFdTIWTFJTw",
      "include_colab_link": true
    },
    "kernelspec": {
      "name": "python3",
      "display_name": "Python 3"
    },
    "language_info": {
      "name": "python"
    }
  },
  "cells": [
    {
      "cell_type": "markdown",
      "metadata": {
        "id": "view-in-github",
        "colab_type": "text"
      },
      "source": [
        "<a href=\"https://colab.research.google.com/github/arpit1729/ma22c007_2023_PL/blob/main/Assignments/Assignment_2/bisection.ipynb\" target=\"_parent\"><img src=\"https://colab.research.google.com/assets/colab-badge.svg\" alt=\"Open In Colab\"/></a>"
      ]
    },
    {
      "cell_type": "code",
      "execution_count": 3,
      "metadata": {
        "colab": {
          "base_uri": "https://localhost:8080/"
        },
        "id": "QIOB8PfLzqoX",
        "outputId": "3330ed97-08e4-4360-d0a9-bee738a046dd"
      },
      "outputs": [
        {
          "output_type": "stream",
          "name": "stdout",
          "text": [
            "a(enter the value of left end point of your interval)= 1\n",
            "b(enter the value of right end point of your interval)= 2\n",
            "eps(required accuracy)= 1e-10\n",
            "number of iterations=34\n",
            "root using bisection = 1.570796326821437\n"
          ]
        }
      ],
      "source": [
        "import math\n",
        "from math import cos,sin\n",
        "\n",
        "a=float(input(\"a(enter the value of left end point of your interval)= \"))\n",
        "b=float(input(\"b(enter the value of right end point of your interval)= \"))\n",
        "eps=float(input(\"eps(required accuracy)= \"))\n",
        "def func():\n",
        "    return cos\n",
        "\n",
        "def no_of_iterations(a,b,eps): # this function will give you the number of iterations that you want\n",
        "    i=0\n",
        "    while (b-a)/(2**i)>eps:\n",
        "        i+=1\n",
        "    print(f'number of iterations={i}')\n",
        "    return i\n",
        "def bisection(f, a, b, eps, niters):\n",
        "    if f(a) * f(b) > 0:\n",
        "        return print('f(a) and f(b) must be of apposit sign')\n",
        "    else:\n",
        "        for i in range(niters+1):\n",
        "            if f(a) * f(b) == 0:\n",
        "                if f(a)==0:\n",
        "                    return print(f\"{a} is root of function\")\n",
        "                else:\n",
        "                    return print(f\"{b} is root of function\")\n",
        "            if f(a)*f(b)<0:\n",
        "                c=(a+b)/2\n",
        "                if f(a) * f(c) < 0:\n",
        "                    b=c\n",
        "                else:\n",
        "                    a=c\n",
        "        print(f\"root using bisection = {c}\")\n",
        "f=func()\n",
        "niters=no_of_iterations(a,b,eps)\n",
        "\n",
        "bisection(f,a,b,eps,niters)"
      ]
    },
    {
      "cell_type": "code",
      "source": [],
      "metadata": {
        "id": "GNKtewFUz6SN"
      },
      "execution_count": null,
      "outputs": []
    }
  ]
}