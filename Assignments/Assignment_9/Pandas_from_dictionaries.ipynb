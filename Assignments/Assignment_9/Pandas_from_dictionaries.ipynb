{
  "nbformat": 4,
  "nbformat_minor": 0,
  "metadata": {
    "colab": {
      "provenance": [],
      "authorship_tag": "ABX9TyMOgg+00mg4ODXOfyWFot7n",
      "include_colab_link": true
    },
    "kernelspec": {
      "name": "python3",
      "display_name": "Python 3"
    },
    "language_info": {
      "name": "python"
    }
  },
  "cells": [
    {
      "cell_type": "markdown",
      "metadata": {
        "id": "view-in-github",
        "colab_type": "text"
      },
      "source": [
        "<a href=\"https://colab.research.google.com/github/arpit1729/ma22c007_2023_PL/blob/main/Assignments/Assignment_9/Pandas_from_dictionaries.ipynb\" target=\"_parent\"><img src=\"https://colab.research.google.com/assets/colab-badge.svg\" alt=\"Open In Colab\"/></a>"
      ]
    },
    {
      "cell_type": "code",
      "execution_count": 17,
      "metadata": {
        "colab": {
          "base_uri": "https://localhost:8080/"
        },
        "id": "LCrzRffeTx3_",
        "outputId": "9be6bb6b-21ed-4a91-a747-682559171d19"
      },
      "outputs": [
        {
          "output_type": "stream",
          "name": "stdout",
          "text": [
            "2    a\n",
            "1    b\n",
            "3    c\n",
            "dtype: object\n"
          ]
        }
      ],
      "source": [
        "import pandas as pd\n",
        "d0 = {2: 'a', 1: 'b', 3: 'c'}\n",
        "P_d0 = pd.Series(d0)\n",
        "print(P_d0)"
      ]
    },
    {
      "cell_type": "code",
      "source": [
        "#Sorting the indices\n",
        "P_d0 = P_d0.sort_index()\n",
        "print(P_d0)"
      ],
      "metadata": {
        "colab": {
          "base_uri": "https://localhost:8080/"
        },
        "id": "mViSVSzOUB03",
        "outputId": "55c3e942-baaa-4fc1-a079-c1be6c555478"
      },
      "execution_count": 19,
      "outputs": [
        {
          "output_type": "stream",
          "name": "stdout",
          "text": [
            "1    b\n",
            "2    a\n",
            "3    c\n",
            "dtype: object\n"
          ]
        }
      ]
    },
    {
      "cell_type": "code",
      "source": [
        "d_1 = {'a': 1, 'b': 2}\n",
        "d_2 = {'b': 3, 'c': 4}\n",
        "# Createing Series from d_1 and d_2\n",
        "Pd_1 = pd.Series(d_1)\n",
        "Pd_2 = pd.Series(d_2)\n",
        "dd = pd.concat([Pd_1, Pd_2], axis=1, keys=['d1', 'd2'])\n",
        "print(dd)"
      ],
      "metadata": {
        "colab": {
          "base_uri": "https://localhost:8080/"
        },
        "id": "VdJOuJ1oUE4N",
        "outputId": "38c2c526-c372-4dd1-a9b8-d87dbd1b72c1"
      },
      "execution_count": 21,
      "outputs": [
        {
          "output_type": "stream",
          "name": "stdout",
          "text": [
            "    d1   d2\n",
            "a  1.0  NaN\n",
            "b  2.0  3.0\n",
            "c  NaN  4.0\n"
          ]
        }
      ]
    },
    {
      "cell_type": "code",
      "source": [
        "column_d1 = dd['d1']\n",
        "print(column_d1)"
      ],
      "metadata": {
        "colab": {
          "base_uri": "https://localhost:8080/"
        },
        "id": "WSMXOh8HUJEb",
        "outputId": "d1c8a767-4644-4476-fd45-7916c182daaf"
      },
      "execution_count": 4,
      "outputs": [
        {
          "output_type": "stream",
          "name": "stdout",
          "text": [
            "a    1.0\n",
            "b    2.0\n",
            "c    NaN\n",
            "Name: d1, dtype: float64\n"
          ]
        }
      ]
    },
    {
      "cell_type": "code",
      "source": [
        "columns_d1_and_d2 = dd[['d1', 'd2']]\n",
        "print(columns_d1_and_d2)"
      ],
      "metadata": {
        "colab": {
          "base_uri": "https://localhost:8080/"
        },
        "id": "nqZ-M-IsUMCC",
        "outputId": "eaceb0a6-0246-4daf-fd5e-880fff8d7a1d"
      },
      "execution_count": 5,
      "outputs": [
        {
          "output_type": "stream",
          "name": "stdout",
          "text": [
            "    d1   d2\n",
            "a  1.0  NaN\n",
            "b  2.0  3.0\n",
            "c  NaN  4.0\n"
          ]
        }
      ]
    },
    {
      "cell_type": "code",
      "source": [
        "sliced_rows = dd[1:3]\n",
        "print(sliced_rows)"
      ],
      "metadata": {
        "colab": {
          "base_uri": "https://localhost:8080/"
        },
        "id": "uiRAFLgdUO_V",
        "outputId": "426d4ef6-8978-49ec-87cc-12f0ab5be4ea"
      },
      "execution_count": 22,
      "outputs": [
        {
          "output_type": "stream",
          "name": "stdout",
          "text": [
            "    d1   d2\n",
            "b  2.0  3.0\n",
            "c  NaN  4.0\n"
          ]
        }
      ]
    },
    {
      "cell_type": "code",
      "source": [
        "# Accessing the specific rows by label and the specific columns by label\n",
        "sliced_subset = dd.loc[['a', 'b', 'c'], ['d1', 'd2']]\n",
        "print(sliced_subset)"
      ],
      "metadata": {
        "colab": {
          "base_uri": "https://localhost:8080/"
        },
        "id": "4RHzNALeUR_Z",
        "outputId": "355d8ee1-3763-49cb-aee4-f9eb48897b5d"
      },
      "execution_count": 23,
      "outputs": [
        {
          "output_type": "stream",
          "name": "stdout",
          "text": [
            "    d1   d2\n",
            "a  1.0  NaN\n",
            "b  2.0  3.0\n",
            "c  NaN  4.0\n"
          ]
        }
      ]
    },
    {
      "cell_type": "code",
      "source": [
        "# Accessing the specific rows and  the columns by integer position\n",
        "sliced_subset_iloc = dd.iloc[1:3, 0:1]  # Access rows 1 and 2, columns 0\n",
        "print(sliced_subset_iloc)"
      ],
      "metadata": {
        "colab": {
          "base_uri": "https://localhost:8080/"
        },
        "id": "eFRHEjUTUVUm",
        "outputId": "2933bf5b-6790-45de-c3a4-809dfe9899d3"
      },
      "execution_count": 24,
      "outputs": [
        {
          "output_type": "stream",
          "name": "stdout",
          "text": [
            "    d1\n",
            "b  2.0\n",
            "c  NaN\n"
          ]
        }
      ]
    },
    {
      "cell_type": "code",
      "source": [
        "# Accessing the first row  and the first column\n",
        "value = dd.iloc[0, 0]\n",
        "print(value)"
      ],
      "metadata": {
        "colab": {
          "base_uri": "https://localhost:8080/"
        },
        "id": "eQw3VmjIUaOp",
        "outputId": "4ada8381-307e-4424-b96a-c598f43045a6"
      },
      "execution_count": 25,
      "outputs": [
        {
          "output_type": "stream",
          "name": "stdout",
          "text": [
            "1.0\n"
          ]
        }
      ]
    },
    {
      "cell_type": "code",
      "source": [
        "# Accessing a subset of rows and columns using integer positions\n",
        "subset = dd.iloc[1:3, 0:2]  # Rows 1 and 2, columns 0 and 1\n",
        "print(subset)"
      ],
      "metadata": {
        "colab": {
          "base_uri": "https://localhost:8080/"
        },
        "id": "WvcCCmaUUdPE",
        "outputId": "05742157-d884-4bc1-c4c2-36a8a38eea50"
      },
      "execution_count": 10,
      "outputs": [
        {
          "output_type": "stream",
          "name": "stdout",
          "text": [
            "    d1   d2\n",
            "b  2.0  3.0\n",
            "c  NaN  4.0\n"
          ]
        }
      ]
    },
    {
      "cell_type": "code",
      "source": [
        "# Accessing an element by row label 'a' and column label 'd1'\n",
        "value = dd.loc['a', 'd1']\n",
        "print(value)"
      ],
      "metadata": {
        "colab": {
          "base_uri": "https://localhost:8080/"
        },
        "id": "-FTpAKtnUkOU",
        "outputId": "c5feb771-3cc5-4497-ba3e-0f8a935797db"
      },
      "execution_count": 26,
      "outputs": [
        {
          "output_type": "stream",
          "name": "stdout",
          "text": [
            "1.0\n"
          ]
        }
      ]
    },
    {
      "cell_type": "code",
      "source": [
        "# Accessing a subset of rows and columns by labels\n",
        "subset = dd.loc[['a', 'b', 'c'], ['d1', 'd2']]\n",
        "print(subset)"
      ],
      "metadata": {
        "colab": {
          "base_uri": "https://localhost:8080/"
        },
        "id": "rliCyHzeUmH8",
        "outputId": "216370bf-f400-4eeb-c83d-642311d166c6"
      },
      "execution_count": 27,
      "outputs": [
        {
          "output_type": "stream",
          "name": "stdout",
          "text": [
            "    d1   d2\n",
            "a  1.0  NaN\n",
            "b  2.0  3.0\n",
            "c  NaN  4.0\n"
          ]
        }
      ]
    },
    {
      "cell_type": "code",
      "source": [
        "print(f\"orignal dataframe\\n {dd}\\n\")\n",
        "filled_df_rows = dd.fillna(method='ffill', axis=0)\n",
        "print(f\"forwaded filling along axes 0(row) \\n{filled_df_rows}\")"
      ],
      "metadata": {
        "colab": {
          "base_uri": "https://localhost:8080/"
        },
        "id": "rBK9LJXcUosl",
        "outputId": "270047d0-3142-4797-a171-03fb58ef4669"
      },
      "execution_count": 28,
      "outputs": [
        {
          "output_type": "stream",
          "name": "stdout",
          "text": [
            "orignal dataframe\n",
            "     d1   d2\n",
            "a  1.0  NaN\n",
            "b  2.0  3.0\n",
            "c  NaN  4.0\n",
            "\n",
            "forwaded filling along axes 0(row) \n",
            "    d1   d2\n",
            "a  1.0  NaN\n",
            "b  2.0  3.0\n",
            "c  2.0  4.0\n"
          ]
        }
      ]
    },
    {
      "cell_type": "code",
      "source": [
        "# Forward fill along columns (axis 1)\n",
        "filled_df_columns = dd.fillna(method='ffill', axis=1)\n",
        "print(f\"forwaded filling along axes 1(colume) \\n{filled_df_columns}\")"
      ],
      "metadata": {
        "colab": {
          "base_uri": "https://localhost:8080/"
        },
        "id": "xb3LAcliUv3I",
        "outputId": "4c11694a-38a0-4afb-a875-14a0ebbd2a87"
      },
      "execution_count": 14,
      "outputs": [
        {
          "output_type": "stream",
          "name": "stdout",
          "text": [
            "forwaded filling along axes 1(colume) \n",
            "    d1   d2\n",
            "a  1.0  1.0\n",
            "b  2.0  3.0\n",
            "c  NaN  4.0\n"
          ]
        }
      ]
    },
    {
      "cell_type": "code",
      "source": [
        "# Backward fill along rows (axis 0)\n",
        "filled_df_rows = dd.fillna(method='bfill', axis=0)\n",
        "print(f\"backward filling along axes 0(row) \\n{filled_df_rows}\")"
      ],
      "metadata": {
        "colab": {
          "base_uri": "https://localhost:8080/"
        },
        "id": "8Q3ggCRyU0r2",
        "outputId": "40a6808a-56f7-477c-e218-fb8eaa3f22b2"
      },
      "execution_count": 29,
      "outputs": [
        {
          "output_type": "stream",
          "name": "stdout",
          "text": [
            "backward filling along axes 0(row) \n",
            "    d1   d2\n",
            "a  1.0  3.0\n",
            "b  2.0  3.0\n",
            "c  NaN  4.0\n"
          ]
        }
      ]
    },
    {
      "cell_type": "code",
      "source": [
        "# Backward fill along columns (axis 1)\n",
        "filled_df_columns = dd.fillna(method='bfill', axis=1)\n",
        "print(f\"backward filling along axes 1(colume) \\n{filled_df_columns}\")"
      ],
      "metadata": {
        "colab": {
          "base_uri": "https://localhost:8080/"
        },
        "id": "O6qV_siOU3di",
        "outputId": "e82d5c63-846e-40b7-a323-8f43ec9ba6f0"
      },
      "execution_count": 30,
      "outputs": [
        {
          "output_type": "stream",
          "name": "stdout",
          "text": [
            "backward filling along axes 1(colume) \n",
            "    d1   d2\n",
            "a  1.0  NaN\n",
            "b  2.0  3.0\n",
            "c  4.0  4.0\n"
          ]
        }
      ]
    },
    {
      "cell_type": "code",
      "source": [],
      "metadata": {
        "id": "9894JNOcU7jj"
      },
      "execution_count": null,
      "outputs": []
    }
  ]
}