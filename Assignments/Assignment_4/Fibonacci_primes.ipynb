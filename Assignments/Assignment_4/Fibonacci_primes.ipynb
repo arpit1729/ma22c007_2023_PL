{
  "nbformat": 4,
  "nbformat_minor": 0,
  "metadata": {
    "colab": {
      "provenance": [],
      "toc_visible": true,
      "mount_file_id": "1o3oKpJjRZ90Nxzi3RNnTv8Lug3n5Svqk",
      "authorship_tag": "ABX9TyMurBhW/3W63knSNZuHK1B8",
      "include_colab_link": true
    },
    "kernelspec": {
      "name": "python3",
      "display_name": "Python 3"
    },
    "language_info": {
      "name": "python"
    }
  },
  "cells": [
    {
      "cell_type": "markdown",
      "metadata": {
        "id": "view-in-github",
        "colab_type": "text"
      },
      "source": [
        "<a href=\"https://colab.research.google.com/github/arpit1729/ma22c007_2023_PL/blob/main/Assignments/Assignment_4/Fibonacci_primes.ipynb\" target=\"_parent\"><img src=\"https://colab.research.google.com/assets/colab-badge.svg\" alt=\"Open In Colab\"/></a>"
      ]
    },
    {
      "cell_type": "code",
      "source": [
        "!pip install memory_profiler"
      ],
      "metadata": {
        "colab": {
          "base_uri": "https://localhost:8080/"
        },
        "id": "q1bSHhSeuz5Y",
        "outputId": "12b685aa-3811-4a7f-8a90-a4fbdb7225ab"
      },
      "execution_count": null,
      "outputs": [
        {
          "output_type": "stream",
          "name": "stdout",
          "text": [
            "Collecting memory_profiler\n",
            "  Downloading memory_profiler-0.61.0-py3-none-any.whl (31 kB)\n",
            "Requirement already satisfied: psutil in /usr/local/lib/python3.10/dist-packages (from memory_profiler) (5.9.5)\n",
            "Installing collected packages: memory_profiler\n",
            "Successfully installed memory_profiler-0.61.0\n"
          ]
        }
      ]
    },
    {
      "cell_type": "code",
      "execution_count": null,
      "metadata": {
        "id": "VJqyLB13rVal"
      },
      "outputs": [],
      "source": [
        "i=2; N=10\n",
        "L = [n**i for n in range(1, N)]"
      ]
    },
    {
      "cell_type": "code",
      "source": [
        "G = (n**i for n in range(1, N))"
      ],
      "metadata": {
        "id": "YdfoRLaFtBbP"
      },
      "execution_count": null,
      "outputs": []
    },
    {
      "cell_type": "code",
      "source": [
        "[l for l in L]"
      ],
      "metadata": {
        "colab": {
          "base_uri": "https://localhost:8080/"
        },
        "id": "ZcmIspx9tIan",
        "outputId": "aabc30af-41e8-4177-c0b6-4e09932bd262"
      },
      "execution_count": null,
      "outputs": [
        {
          "output_type": "execute_result",
          "data": {
            "text/plain": [
              "[1, 4, 9, 16, 25, 36, 49, 64, 81]"
            ]
          },
          "metadata": {},
          "execution_count": 21
        }
      ]
    },
    {
      "cell_type": "code",
      "source": [
        "[g for g in G]"
      ],
      "metadata": {
        "colab": {
          "base_uri": "https://localhost:8080/"
        },
        "id": "lq7N5YEQtMBV",
        "outputId": "27fce307-bbd3-46cb-e14e-edcf579571f9"
      },
      "execution_count": null,
      "outputs": [
        {
          "output_type": "execute_result",
          "data": {
            "text/plain": [
              "[1, 4, 9, 16, 25, 36, 49, 64, 81]"
            ]
          },
          "metadata": {},
          "execution_count": 22
        }
      ]
    },
    {
      "cell_type": "code",
      "source": [
        "[g for g in G]"
      ],
      "metadata": {
        "colab": {
          "base_uri": "https://localhost:8080/"
        },
        "id": "CR_O9vGetQCW",
        "outputId": "5fa3776f-a3ff-4a80-b102-c2bc68a19947"
      },
      "execution_count": null,
      "outputs": [
        {
          "output_type": "execute_result",
          "data": {
            "text/plain": [
              "[]"
            ]
          },
          "metadata": {},
          "execution_count": 23
        }
      ]
    },
    {
      "cell_type": "code",
      "source": [
        "def GG():\n",
        "    for n in range(1, N):\n",
        "       yield n**i"
      ],
      "metadata": {
        "id": "RwxKVCS0tTQH"
      },
      "execution_count": null,
      "outputs": []
    },
    {
      "cell_type": "code",
      "source": [
        "G2 = GG()\n",
        "print(*G2) # see that you get the same values as before"
      ],
      "metadata": {
        "colab": {
          "base_uri": "https://localhost:8080/"
        },
        "id": "DvrwzeTDtXcL",
        "outputId": "86f80bf7-568a-4c8a-d154-0973f2c40a34"
      },
      "execution_count": null,
      "outputs": [
        {
          "output_type": "stream",
          "name": "stdout",
          "text": [
            "1 4 9 16 25 36 49 64 81\n"
          ]
        }
      ]
    },
    {
      "cell_type": "code",
      "source": [
        "G2 = GG()\n",
        "# get the first 3 values of the sequence using next:\n",
        "next(G2), next(G2), next(G2)"
      ],
      "metadata": {
        "colab": {
          "base_uri": "https://localhost:8080/"
        },
        "id": "AOV9Q4dmtknE",
        "outputId": "d9cd10fd-4071-430b-a244-42fdfa0ba72d"
      },
      "execution_count": null,
      "outputs": [
        {
          "output_type": "execute_result",
          "data": {
            "text/plain": [
              "(1, 4, 9)"
            ]
          },
          "metadata": {},
          "execution_count": 26
        }
      ]
    },
    {
      "cell_type": "code",
      "source": [
        "print(*G2) # print the remaining values of the sequence"
      ],
      "metadata": {
        "colab": {
          "base_uri": "https://localhost:8080/"
        },
        "id": "EUWC7-Tctotl",
        "outputId": "094f7a6b-490e-432c-ce40-e130e9913b65"
      },
      "execution_count": null,
      "outputs": [
        {
          "output_type": "stream",
          "name": "stdout",
          "text": [
            "16 25 36 49 64 81\n"
          ]
        }
      ]
    },
    {
      "cell_type": "code",
      "source": [
        "i = -20\n",
        "N = 10**8"
      ],
      "metadata": {
        "id": "xm7_Ilurts3L"
      },
      "execution_count": null,
      "outputs": []
    },
    {
      "cell_type": "code",
      "source": [
        "%load_ext memory_profiler"
      ],
      "metadata": {
        "id": "yYShmrHjtxi3"
      },
      "execution_count": null,
      "outputs": []
    },
    {
      "cell_type": "code",
      "source": [
        "%memit sum([n**i for n in range(1, N)])"
      ],
      "metadata": {
        "colab": {
          "base_uri": "https://localhost:8080/"
        },
        "id": "C5yq8d2Qt1JX",
        "outputId": "51e47a5b-54f1-4cc8-c43d-b940beefb73d"
      },
      "execution_count": null,
      "outputs": [
        {
          "output_type": "stream",
          "name": "stdout",
          "text": [
            "peak memory: 3936.82 MiB, increment: 3829.02 MiB\n"
          ]
        }
      ]
    },
    {
      "cell_type": "code",
      "source": [
        "G3 = (n**i for n in range(1, N))\n",
        "s = 0\n",
        "for g in G3:\n",
        "    s += g\n",
        "    if g < 1e-15:\n",
        "       break\n",
        "print(s)"
      ],
      "metadata": {
        "colab": {
          "base_uri": "https://localhost:8080/"
        },
        "id": "Mhppig2yubqw",
        "outputId": "7dbb5bfd-5019-44e3-8483-3dc7a4f24be5"
      },
      "execution_count": null,
      "outputs": [
        {
          "output_type": "stream",
          "name": "stdout",
          "text": [
            "1.0000009539620338\n"
          ]
        }
      ]
    },
    {
      "cell_type": "code",
      "source": [
        "def natural_numbers():\n",
        "    n = 0\n",
        "    while True:\n",
        "       yield n\n",
        "       n += 1"
      ],
      "metadata": {
        "id": "EF8Q2NCjvvIe"
      },
      "execution_count": null,
      "outputs": []
    },
    {
      "cell_type": "code",
      "source": [
        "for n in natural_numbers():\n",
        "   print(n)\n",
        "   if n >= 5: break # don't go into infinite loop!"
      ],
      "metadata": {
        "colab": {
          "base_uri": "https://localhost:8080/"
        },
        "id": "6R4SCXDOv_lf",
        "outputId": "d6ef3eb8-c416-4864-ee67-20aefed62b76"
      },
      "execution_count": null,
      "outputs": [
        {
          "output_type": "stream",
          "name": "stdout",
          "text": [
            "0\n",
            "1\n",
            "2\n",
            "3\n",
            "4\n",
            "5\n"
          ]
        }
      ]
    },
    {
      "cell_type": "code",
      "source": [
        "def fibonacci(max):\n",
        "   f, fnext = 0, 1\n",
        "   while f < max:\n",
        "       yield f\n",
        "       f, fnext = fnext, f + fnext"
      ],
      "metadata": {
        "id": "Uu_AM2eBwGM4"
      },
      "execution_count": null,
      "outputs": []
    },
    {
      "cell_type": "code",
      "source": [
        "Fn = fibonacci(10000)\n",
        "print(*Fn)"
      ],
      "metadata": {
        "colab": {
          "base_uri": "https://localhost:8080/"
        },
        "id": "VBGAiVCPwkX7",
        "outputId": "0bbfe8ad-7daa-4b2f-b330-a6f83dd7e33b"
      },
      "execution_count": null,
      "outputs": [
        {
          "output_type": "stream",
          "name": "stdout",
          "text": [
            "0 1 1 2 3 5 8 13 21 34 55 89 144 233 377 610 987 1597 2584 4181 6765\n"
          ]
        }
      ]
    },
    {
      "cell_type": "code",
      "source": [
        "P = [2, 3]"
      ],
      "metadata": {
        "id": "0vpHOBk8wo4S"
      },
      "execution_count": null,
      "outputs": []
    },
    {
      "cell_type": "code",
      "source": [
        "[4 % p for p in P]"
      ],
      "metadata": {
        "colab": {
          "base_uri": "https://localhost:8080/"
        },
        "id": "T72b_Abjw4Mc",
        "outputId": "464eddbd-ad30-4bfc-c37a-22a109a7025a"
      },
      "execution_count": null,
      "outputs": [
        {
          "output_type": "execute_result",
          "data": {
            "text/plain": [
              "[0, 1]"
            ]
          },
          "metadata": {},
          "execution_count": 40
        }
      ]
    },
    {
      "cell_type": "code",
      "source": [
        "all([4 % p for p in P])"
      ],
      "metadata": {
        "colab": {
          "base_uri": "https://localhost:8080/"
        },
        "id": "To8PKpPBw7El",
        "outputId": "8f151910-350c-4698-eded-08fcbed236ff"
      },
      "execution_count": null,
      "outputs": [
        {
          "output_type": "execute_result",
          "data": {
            "text/plain": [
              "False"
            ]
          },
          "metadata": {},
          "execution_count": 41
        }
      ]
    },
    {
      "cell_type": "code",
      "source": [
        "all([5 % p for p in P])"
      ],
      "metadata": {
        "colab": {
          "base_uri": "https://localhost:8080/"
        },
        "id": "-6wlhjQNxHWU",
        "outputId": "211836d3-7cfd-4e87-b21a-5a6b7d791a95"
      },
      "execution_count": null,
      "outputs": [
        {
          "output_type": "execute_result",
          "data": {
            "text/plain": [
              "True"
            ]
          },
          "metadata": {},
          "execution_count": 42
        }
      ]
    },
    {
      "cell_type": "code",
      "source": [
        "def prime_numbers(N):\n",
        "   primes = []\n",
        "   q = 1\n",
        "   for n in range(q+1, N):\n",
        "       if all(n % p > 0 for p in primes):\n",
        "           primes.append(n)\n",
        "           q = n\n",
        "           yield n"
      ],
      "metadata": {
        "id": "ROEcAh2NxLOz"
      },
      "execution_count": null,
      "outputs": []
    },
    {
      "cell_type": "code",
      "source": [
        "list(prime_numbers(70))"
      ],
      "metadata": {
        "colab": {
          "base_uri": "https://localhost:8080/"
        },
        "id": "5_VKP507xeBV",
        "outputId": "eb8d87d5-acd8-47cd-f457-669371716355"
      },
      "execution_count": null,
      "outputs": [
        {
          "output_type": "execute_result",
          "data": {
            "text/plain": [
              "[2, 3, 5, 7, 11, 13, 17, 19, 23, 29, 31, 37, 41, 43, 47, 53, 59, 61, 67]"
            ]
          },
          "metadata": {},
          "execution_count": 45
        }
      ]
    },
    {
      "cell_type": "code",
      "source": [
        "def fibonacci_primes(N):\n",
        "   F = set(fibonacci(N))\n",
        "   P = set(prime_numbers(N))\n",
        "   print('Intersecting', len(P), 'primes with', len(F), 'fibonaccis.')\n",
        "   return P.intersection(F)\n",
        "fibonacci_primes(100000)"
      ],
      "metadata": {
        "colab": {
          "base_uri": "https://localhost:8080/"
        },
        "id": "X9c6db2xxxT_",
        "outputId": "2d69eeb6-f84f-43ac-87b5-cc516802cdaf"
      },
      "execution_count": null,
      "outputs": [
        {
          "output_type": "stream",
          "name": "stdout",
          "text": [
            "Intersecting 9592 primes with 25 fibonaccis.\n"
          ]
        },
        {
          "output_type": "execute_result",
          "data": {
            "text/plain": [
              "{2, 3, 5, 13, 89, 233, 1597, 28657}"
            ]
          },
          "metadata": {},
          "execution_count": 46
        }
      ]
    },
    {
      "cell_type": "code",
      "source": [
        "nFP = [3, 4, 5, 7, 11, 13, 17, 23, 29, 43]"
      ],
      "metadata": {
        "id": "s3WWAal0x9Xd"
      },
      "execution_count": null,
      "outputs": []
    },
    {
      "cell_type": "code",
      "source": [
        "def test_fibonacci_prime():\n",
        "   N = 10000\n",
        "   F = list(fibonacci(N))\n",
        "   nFP = [3, 4, 5, 7, 11, 13, 17, 23, 29, 43]\n",
        "   our_list = fibonacci_primes(N)\n",
        "   known_list = set([F[n] for n in nFP if n < len(F)])\n",
        "   assert len(known_list.difference(our_list))==0, 'We have a bug!'\n",
        "   print('Passed test!')"
      ],
      "metadata": {
        "id": "kSyhFzhDyD3n"
      },
      "execution_count": null,
      "outputs": []
    },
    {
      "cell_type": "code",
      "source": [
        "test_fibonacci_prime()"
      ],
      "metadata": {
        "colab": {
          "base_uri": "https://localhost:8080/"
        },
        "id": "BwfMVwDHyQ9n",
        "outputId": "ed90bdda-146e-48fa-e384-b3fb6d4c51c2"
      },
      "execution_count": null,
      "outputs": [
        {
          "output_type": "stream",
          "name": "stdout",
          "text": [
            "Intersecting 1229 primes with 20 fibonaccis.\n",
            "Passed test!\n"
          ]
        }
      ]
    },
    {
      "cell_type": "code",
      "source": [
        "!pytest pyfiles/fibonacci_primes"
      ],
      "metadata": {
        "colab": {
          "base_uri": "https://localhost:8080/"
        },
        "id": "xg9NMTa6yWP8",
        "outputId": "38aa27cf-927f-4611-92a6-dd2df71b7504"
      },
      "execution_count": null,
      "outputs": [
        {
          "output_type": "stream",
          "name": "stdout",
          "text": [
            "\u001b[1m============================= test session starts ==============================\u001b[0m\n",
            "platform linux -- Python 3.10.12, pytest-7.4.0, pluggy-1.2.0\n",
            "rootdir: /content\n",
            "plugins: anyio-3.7.1\n",
            "collected 1 item                                                               \u001b[0m\n",
            "\n",
            "pyfiles/fibonacci_primes/test_fibonacci_primes.py \u001b[32m.\u001b[0m\u001b[32m                      [100%]\u001b[0m\n",
            "\n",
            "\u001b[32m============================== \u001b[32m\u001b[1m1 passed\u001b[0m\u001b[32m in 4.05s\u001b[0m\u001b[32m ===============================\u001b[0m\n"
          ]
        }
      ]
    },
    {
      "cell_type": "code",
      "source": [
        "!apt-get update\n",
        "!apt-get install -y primesieve\n",
        "!apt-get install -y libprimesieve-dev"
      ],
      "metadata": {
        "colab": {
          "base_uri": "https://localhost:8080/"
        },
        "id": "5V3sYejyO9Ho",
        "outputId": "4019744b-0963-492d-804e-4155dff39711"
      },
      "execution_count": 2,
      "outputs": [
        {
          "output_type": "stream",
          "name": "stdout",
          "text": [
            "\r0% [Working]\r            \rGet:1 https://cloud.r-project.org/bin/linux/ubuntu jammy-cran40/ InRelease [3,626 B]\n",
            "\r0% [Connecting to archive.ubuntu.com] [Connecting to security.ubuntu.com (185.1\r0% [Connecting to archive.ubuntu.com] [Waiting for headers] [Connecting to ppa.\r                                                                               \rHit:2 https://developer.download.nvidia.com/compute/cuda/repos/ubuntu2204/x86_64  InRelease\n",
            "\r0% [Waiting for headers] [Waiting for headers] [Connected to ppa.launchpadconte\r                                                                               \rHit:3 http://archive.ubuntu.com/ubuntu jammy InRelease\n",
            "\r0% [Waiting for headers] [Waiting for headers] [Connected to ppa.launchpadconte\r                                                                               \rGet:4 http://security.ubuntu.com/ubuntu jammy-security InRelease [110 kB]\n",
            "Get:5 http://archive.ubuntu.com/ubuntu jammy-updates InRelease [119 kB]\n",
            "Get:6 http://archive.ubuntu.com/ubuntu jammy-backports InRelease [109 kB]\n",
            "Hit:7 https://ppa.launchpadcontent.net/c2d4u.team/c2d4u4.0+/ubuntu jammy InRelease\n",
            "Get:8 http://archive.ubuntu.com/ubuntu jammy-updates/universe amd64 Packages [1,251 kB]\n",
            "Hit:9 https://ppa.launchpadcontent.net/deadsnakes/ppa/ubuntu jammy InRelease\n",
            "Get:10 http://archive.ubuntu.com/ubuntu jammy-updates/main amd64 Packages [1,185 kB]\n",
            "Get:11 http://archive.ubuntu.com/ubuntu jammy-updates/restricted amd64 Packages [1,015 kB]\n",
            "Get:12 http://archive.ubuntu.com/ubuntu jammy-backports/universe amd64 Packages [25.6 kB]\n",
            "Get:13 https://ppa.launchpadcontent.net/graphics-drivers/ppa/ubuntu jammy InRelease [24.3 kB]\n",
            "Get:14 http://security.ubuntu.com/ubuntu jammy-security/main amd64 Packages [915 kB]\n",
            "Hit:15 https://ppa.launchpadcontent.net/ubuntugis/ppa/ubuntu jammy InRelease\n",
            "Get:16 http://security.ubuntu.com/ubuntu jammy-security/restricted amd64 Packages [995 kB]\n",
            "Get:17 https://ppa.launchpadcontent.net/graphics-drivers/ppa/ubuntu jammy/main amd64 Packages [37.3 kB]\n",
            "Fetched 5,790 kB in 3s (2,110 kB/s)\n",
            "Reading package lists... Done\n",
            "Reading package lists... Done\n",
            "Building dependency tree... Done\n",
            "Reading state information... Done\n",
            "The following additional packages will be installed:\n",
            "  libprimesieve9 primesieve-bin\n",
            "Suggested packages:\n",
            "  primesieve-doc\n",
            "The following NEW packages will be installed:\n",
            "  libprimesieve9 primesieve primesieve-bin\n",
            "0 upgraded, 3 newly installed, 0 to remove and 16 not upgraded.\n",
            "Need to get 109 kB of archives.\n",
            "After this operation, 323 kB of additional disk space will be used.\n",
            "Get:1 http://archive.ubuntu.com/ubuntu jammy/universe amd64 libprimesieve9 amd64 7.8+ds-1 [76.7 kB]\n",
            "Get:2 http://archive.ubuntu.com/ubuntu jammy/universe amd64 primesieve-bin amd64 7.8+ds-1 [28.6 kB]\n",
            "Get:3 http://archive.ubuntu.com/ubuntu jammy/universe amd64 primesieve all 7.8+ds-1 [3,212 B]\n",
            "Fetched 109 kB in 0s (557 kB/s)\n",
            "Selecting previously unselected package libprimesieve9:amd64.\n",
            "(Reading database ... 120893 files and directories currently installed.)\n",
            "Preparing to unpack .../libprimesieve9_7.8+ds-1_amd64.deb ...\n",
            "Unpacking libprimesieve9:amd64 (7.8+ds-1) ...\n",
            "Selecting previously unselected package primesieve-bin.\n",
            "Preparing to unpack .../primesieve-bin_7.8+ds-1_amd64.deb ...\n",
            "Unpacking primesieve-bin (7.8+ds-1) ...\n",
            "Selecting previously unselected package primesieve.\n",
            "Preparing to unpack .../primesieve_7.8+ds-1_all.deb ...\n",
            "Unpacking primesieve (7.8+ds-1) ...\n",
            "Setting up libprimesieve9:amd64 (7.8+ds-1) ...\n",
            "Setting up primesieve-bin (7.8+ds-1) ...\n",
            "Setting up primesieve (7.8+ds-1) ...\n",
            "Processing triggers for man-db (2.10.2-1) ...\n",
            "Processing triggers for libc-bin (2.35-0ubuntu3.1) ...\n",
            "/sbin/ldconfig.real: /usr/local/lib/libtbbmalloc.so.2 is not a symbolic link\n",
            "\n",
            "/sbin/ldconfig.real: /usr/local/lib/libtbbmalloc_proxy.so.2 is not a symbolic link\n",
            "\n",
            "/sbin/ldconfig.real: /usr/local/lib/libtbb.so.12 is not a symbolic link\n",
            "\n",
            "/sbin/ldconfig.real: /usr/local/lib/libtbbbind_2_5.so.3 is not a symbolic link\n",
            "\n",
            "/sbin/ldconfig.real: /usr/local/lib/libtbbbind.so.3 is not a symbolic link\n",
            "\n",
            "/sbin/ldconfig.real: /usr/local/lib/libtbbbind_2_0.so.3 is not a symbolic link\n",
            "\n",
            "Reading package lists... Done\n",
            "Building dependency tree... Done\n",
            "Reading state information... Done\n",
            "The following additional packages will be installed:\n",
            "  libprimesieve-dev-common\n",
            "Suggested packages:\n",
            "  primesieve-doc\n",
            "The following NEW packages will be installed:\n",
            "  libprimesieve-dev libprimesieve-dev-common\n",
            "0 upgraded, 2 newly installed, 0 to remove and 16 not upgraded.\n",
            "Need to get 101 kB of archives.\n",
            "After this operation, 487 kB of additional disk space will be used.\n",
            "Get:1 http://archive.ubuntu.com/ubuntu jammy/universe amd64 libprimesieve-dev-common all 7.8+ds-1 [14.6 kB]\n",
            "Get:2 http://archive.ubuntu.com/ubuntu jammy/universe amd64 libprimesieve-dev amd64 7.8+ds-1 [86.4 kB]\n",
            "Fetched 101 kB in 0s (396 kB/s)\n",
            "Selecting previously unselected package libprimesieve-dev-common.\n",
            "(Reading database ... 120907 files and directories currently installed.)\n",
            "Preparing to unpack .../libprimesieve-dev-common_7.8+ds-1_all.deb ...\n",
            "Unpacking libprimesieve-dev-common (7.8+ds-1) ...\n",
            "Selecting previously unselected package libprimesieve-dev:amd64.\n",
            "Preparing to unpack .../libprimesieve-dev_7.8+ds-1_amd64.deb ...\n",
            "Unpacking libprimesieve-dev:amd64 (7.8+ds-1) ...\n",
            "Setting up libprimesieve-dev-common (7.8+ds-1) ...\n",
            "Setting up libprimesieve-dev:amd64 (7.8+ds-1) ...\n"
          ]
        }
      ]
    },
    {
      "cell_type": "code",
      "source": [
        "!pip install primesieve"
      ],
      "metadata": {
        "id": "b0LDYvlhQcdL",
        "colab": {
          "base_uri": "https://localhost:8080/"
        },
        "outputId": "61e9e16b-d2f9-45a4-f166-1a2cef1ac4a4"
      },
      "execution_count": 3,
      "outputs": [
        {
          "output_type": "stream",
          "name": "stdout",
          "text": [
            "Collecting primesieve\n",
            "  Downloading primesieve-2.3.2.tar.gz (92 kB)\n",
            "\u001b[?25l     \u001b[90m━━━━━━━━━━━━━━━━━━━━━━━━━━━━━━━━━━━━━━━━\u001b[0m \u001b[32m0.0/92.4 kB\u001b[0m \u001b[31m?\u001b[0m eta \u001b[36m-:--:--\u001b[0m\r\u001b[2K     \u001b[91m━━━━━━━━━━━━━━━━━\u001b[0m\u001b[90m╺\u001b[0m\u001b[90m━━━━━━━━━━━━━━━━━━━━━\u001b[0m \u001b[32m41.0/92.4 kB\u001b[0m \u001b[31m977.5 kB/s\u001b[0m eta \u001b[36m0:00:01\u001b[0m\r\u001b[2K     \u001b[90m━━━━━━━━━━━━━━━━━━━━━━━━━━━━━━━━━━━━━━━━\u001b[0m \u001b[32m92.4/92.4 kB\u001b[0m \u001b[31m1.5 MB/s\u001b[0m eta \u001b[36m0:00:00\u001b[0m\n",
            "\u001b[?25h  Preparing metadata (setup.py) ... \u001b[?25l\u001b[?25hdone\n",
            "Building wheels for collected packages: primesieve\n",
            "  Building wheel for primesieve (setup.py) ... \u001b[?25l\u001b[?25hdone\n",
            "  Created wheel for primesieve: filename=primesieve-2.3.2-cp310-cp310-linux_x86_64.whl size=296257 sha256=6231b12bb3df2f12e7577c08b6f16a2c9100ca2b6ad2058a410c499d40f6e15a\n",
            "  Stored in directory: /root/.cache/pip/wheels/b5/aa/75/e002789ba0e5e72dbe4c28ae10ac42560f2e5dff9b04a79bfa\n",
            "Successfully built primesieve\n",
            "Installing collected packages: primesieve\n",
            "Successfully installed primesieve-2.3.2\n"
          ]
        }
      ]
    },
    {
      "cell_type": "code",
      "source": [
        "from primesieve import primes # do after you have installed primesieve\n",
        "list(primes(70))"
      ],
      "metadata": {
        "colab": {
          "base_uri": "https://localhost:8080/"
        },
        "id": "n3B-U_nzQsSH",
        "outputId": "f7fdea38-4ea4-4dec-de0a-c14ce6efaba8"
      },
      "execution_count": 4,
      "outputs": [
        {
          "output_type": "execute_result",
          "data": {
            "text/plain": [
              "[2, 3, 5, 7, 11, 13, 17, 19, 23, 29, 31, 37, 41, 43, 47, 53, 59, 61, 67]"
            ]
          },
          "metadata": {},
          "execution_count": 4
        }
      ]
    },
    {
      "cell_type": "code",
      "source": [
        "%timeit primes(1000)"
      ],
      "metadata": {
        "colab": {
          "base_uri": "https://localhost:8080/"
        },
        "id": "x4EuQk7-REpL",
        "outputId": "9ca33ce1-c3b4-49e8-c711-865287822d6b"
      },
      "execution_count": 5,
      "outputs": [
        {
          "output_type": "stream",
          "name": "stdout",
          "text": [
            "2.45 µs ± 80.6 ns per loop (mean ± std. dev. of 7 runs, 100000 loops each)\n"
          ]
        }
      ]
    },
    {
      "cell_type": "code",
      "source": [
        "# %timeit list(prime_numbers(1000))"
      ],
      "metadata": {
        "colab": {
          "base_uri": "https://localhost:8080/",
          "height": 390
        },
        "id": "WB2vO_joRKBE",
        "outputId": "ecf0805f-92b3-4cc1-afc7-c6c68c087774"
      },
      "execution_count": 16,
      "outputs": [
        {
          "output_type": "error",
          "ename": "NameError",
          "evalue": "ignored",
          "traceback": [
            "\u001b[0;31m---------------------------------------------------------------------------\u001b[0m",
            "\u001b[0;31mNameError\u001b[0m                                 Traceback (most recent call last)",
            "\u001b[0;32m<ipython-input-16-6ff1ac72d408>\u001b[0m in \u001b[0;36m<cell line: 1>\u001b[0;34m()\u001b[0m\n\u001b[0;32m----> 1\u001b[0;31m \u001b[0mget_ipython\u001b[0m\u001b[0;34m(\u001b[0m\u001b[0;34m)\u001b[0m\u001b[0;34m.\u001b[0m\u001b[0mrun_line_magic\u001b[0m\u001b[0;34m(\u001b[0m\u001b[0;34m'timeit'\u001b[0m\u001b[0;34m,\u001b[0m \u001b[0;34m'list(prime_numbers(1000))'\u001b[0m\u001b[0;34m)\u001b[0m\u001b[0;34m\u001b[0m\u001b[0;34m\u001b[0m\u001b[0m\n\u001b[0m",
            "\u001b[0;32m/usr/local/lib/python3.10/dist-packages/IPython/core/interactiveshell.py\u001b[0m in \u001b[0;36mrun_line_magic\u001b[0;34m(self, magic_name, line, _stack_depth)\u001b[0m\n\u001b[1;32m   2416\u001b[0m                 \u001b[0mkwargs\u001b[0m\u001b[0;34m[\u001b[0m\u001b[0;34m'local_ns'\u001b[0m\u001b[0;34m]\u001b[0m \u001b[0;34m=\u001b[0m \u001b[0mself\u001b[0m\u001b[0;34m.\u001b[0m\u001b[0mget_local_scope\u001b[0m\u001b[0;34m(\u001b[0m\u001b[0mstack_depth\u001b[0m\u001b[0;34m)\u001b[0m\u001b[0;34m\u001b[0m\u001b[0;34m\u001b[0m\u001b[0m\n\u001b[1;32m   2417\u001b[0m             \u001b[0;32mwith\u001b[0m \u001b[0mself\u001b[0m\u001b[0;34m.\u001b[0m\u001b[0mbuiltin_trap\u001b[0m\u001b[0;34m:\u001b[0m\u001b[0;34m\u001b[0m\u001b[0;34m\u001b[0m\u001b[0m\n\u001b[0;32m-> 2418\u001b[0;31m                 \u001b[0mresult\u001b[0m \u001b[0;34m=\u001b[0m \u001b[0mfn\u001b[0m\u001b[0;34m(\u001b[0m\u001b[0;34m*\u001b[0m\u001b[0margs\u001b[0m\u001b[0;34m,\u001b[0m \u001b[0;34m**\u001b[0m\u001b[0mkwargs\u001b[0m\u001b[0;34m)\u001b[0m\u001b[0;34m\u001b[0m\u001b[0;34m\u001b[0m\u001b[0m\n\u001b[0m\u001b[1;32m   2419\u001b[0m             \u001b[0;32mreturn\u001b[0m \u001b[0mresult\u001b[0m\u001b[0;34m\u001b[0m\u001b[0;34m\u001b[0m\u001b[0m\n\u001b[1;32m   2420\u001b[0m \u001b[0;34m\u001b[0m\u001b[0m\n",
            "\u001b[0;32m<decorator-gen-53>\u001b[0m in \u001b[0;36mtimeit\u001b[0;34m(self, line, cell, local_ns)\u001b[0m\n",
            "\u001b[0;32m/usr/local/lib/python3.10/dist-packages/IPython/core/magic.py\u001b[0m in \u001b[0;36m<lambda>\u001b[0;34m(f, *a, **k)\u001b[0m\n\u001b[1;32m    185\u001b[0m     \u001b[0;31m# but it's overkill for just that one bit of state.\u001b[0m\u001b[0;34m\u001b[0m\u001b[0;34m\u001b[0m\u001b[0m\n\u001b[1;32m    186\u001b[0m     \u001b[0;32mdef\u001b[0m \u001b[0mmagic_deco\u001b[0m\u001b[0;34m(\u001b[0m\u001b[0marg\u001b[0m\u001b[0;34m)\u001b[0m\u001b[0;34m:\u001b[0m\u001b[0;34m\u001b[0m\u001b[0;34m\u001b[0m\u001b[0m\n\u001b[0;32m--> 187\u001b[0;31m         \u001b[0mcall\u001b[0m \u001b[0;34m=\u001b[0m \u001b[0;32mlambda\u001b[0m \u001b[0mf\u001b[0m\u001b[0;34m,\u001b[0m \u001b[0;34m*\u001b[0m\u001b[0ma\u001b[0m\u001b[0;34m,\u001b[0m \u001b[0;34m**\u001b[0m\u001b[0mk\u001b[0m\u001b[0;34m:\u001b[0m \u001b[0mf\u001b[0m\u001b[0;34m(\u001b[0m\u001b[0;34m*\u001b[0m\u001b[0ma\u001b[0m\u001b[0;34m,\u001b[0m \u001b[0;34m**\u001b[0m\u001b[0mk\u001b[0m\u001b[0;34m)\u001b[0m\u001b[0;34m\u001b[0m\u001b[0;34m\u001b[0m\u001b[0m\n\u001b[0m\u001b[1;32m    188\u001b[0m \u001b[0;34m\u001b[0m\u001b[0m\n\u001b[1;32m    189\u001b[0m         \u001b[0;32mif\u001b[0m \u001b[0mcallable\u001b[0m\u001b[0;34m(\u001b[0m\u001b[0marg\u001b[0m\u001b[0;34m)\u001b[0m\u001b[0;34m:\u001b[0m\u001b[0;34m\u001b[0m\u001b[0;34m\u001b[0m\u001b[0m\n",
            "\u001b[0;32m/usr/local/lib/python3.10/dist-packages/IPython/core/magics/execution.py\u001b[0m in \u001b[0;36mtimeit\u001b[0;34m(self, line, cell, local_ns)\u001b[0m\n\u001b[1;32m   1178\u001b[0m             \u001b[0;32mfor\u001b[0m \u001b[0mindex\u001b[0m \u001b[0;32min\u001b[0m \u001b[0mrange\u001b[0m\u001b[0;34m(\u001b[0m\u001b[0;36m0\u001b[0m\u001b[0;34m,\u001b[0m \u001b[0;36m10\u001b[0m\u001b[0;34m)\u001b[0m\u001b[0;34m:\u001b[0m\u001b[0;34m\u001b[0m\u001b[0;34m\u001b[0m\u001b[0m\n\u001b[1;32m   1179\u001b[0m                 \u001b[0mnumber\u001b[0m \u001b[0;34m=\u001b[0m \u001b[0;36m10\u001b[0m \u001b[0;34m**\u001b[0m \u001b[0mindex\u001b[0m\u001b[0;34m\u001b[0m\u001b[0;34m\u001b[0m\u001b[0m\n\u001b[0;32m-> 1180\u001b[0;31m                 \u001b[0mtime_number\u001b[0m \u001b[0;34m=\u001b[0m \u001b[0mtimer\u001b[0m\u001b[0;34m.\u001b[0m\u001b[0mtimeit\u001b[0m\u001b[0;34m(\u001b[0m\u001b[0mnumber\u001b[0m\u001b[0;34m)\u001b[0m\u001b[0;34m\u001b[0m\u001b[0;34m\u001b[0m\u001b[0m\n\u001b[0m\u001b[1;32m   1181\u001b[0m                 \u001b[0;32mif\u001b[0m \u001b[0mtime_number\u001b[0m \u001b[0;34m>=\u001b[0m \u001b[0;36m0.2\u001b[0m\u001b[0;34m:\u001b[0m\u001b[0;34m\u001b[0m\u001b[0;34m\u001b[0m\u001b[0m\n\u001b[1;32m   1182\u001b[0m                     \u001b[0;32mbreak\u001b[0m\u001b[0;34m\u001b[0m\u001b[0;34m\u001b[0m\u001b[0m\n",
            "\u001b[0;32m/usr/local/lib/python3.10/dist-packages/IPython/core/magics/execution.py\u001b[0m in \u001b[0;36mtimeit\u001b[0;34m(self, number)\u001b[0m\n\u001b[1;32m    167\u001b[0m         \u001b[0mgc\u001b[0m\u001b[0;34m.\u001b[0m\u001b[0mdisable\u001b[0m\u001b[0;34m(\u001b[0m\u001b[0;34m)\u001b[0m\u001b[0;34m\u001b[0m\u001b[0;34m\u001b[0m\u001b[0m\n\u001b[1;32m    168\u001b[0m         \u001b[0;32mtry\u001b[0m\u001b[0;34m:\u001b[0m\u001b[0;34m\u001b[0m\u001b[0;34m\u001b[0m\u001b[0m\n\u001b[0;32m--> 169\u001b[0;31m             \u001b[0mtiming\u001b[0m \u001b[0;34m=\u001b[0m \u001b[0mself\u001b[0m\u001b[0;34m.\u001b[0m\u001b[0minner\u001b[0m\u001b[0;34m(\u001b[0m\u001b[0mit\u001b[0m\u001b[0;34m,\u001b[0m \u001b[0mself\u001b[0m\u001b[0;34m.\u001b[0m\u001b[0mtimer\u001b[0m\u001b[0;34m)\u001b[0m\u001b[0;34m\u001b[0m\u001b[0;34m\u001b[0m\u001b[0m\n\u001b[0m\u001b[1;32m    170\u001b[0m         \u001b[0;32mfinally\u001b[0m\u001b[0;34m:\u001b[0m\u001b[0;34m\u001b[0m\u001b[0;34m\u001b[0m\u001b[0m\n\u001b[1;32m    171\u001b[0m             \u001b[0;32mif\u001b[0m \u001b[0mgcold\u001b[0m\u001b[0;34m:\u001b[0m\u001b[0;34m\u001b[0m\u001b[0;34m\u001b[0m\u001b[0m\n",
            "\u001b[0;32m<magic-timeit>\u001b[0m in \u001b[0;36minner\u001b[0;34m(_it, _timer)\u001b[0m\n",
            "\u001b[0;31mNameError\u001b[0m: name 'prime_numbers' is not defined"
          ]
        }
      ]
    },
    {
      "cell_type": "code",
      "source": [
        "import primesieve, math\n",
        "\n",
        "def is_square(n):\n",
        "   s = int(math.sqrt(n))\n",
        "   return s*s == n\n",
        "\n",
        "it = primesieve.Iterator()\n",
        "it.skipto(2**28-1)\n",
        "p = it.next_prime()\n",
        "\n",
        "while p < 2**30-1:\n",
        "   if is_square(5*p*p+4) or is_square(5*p*p-4):\n",
        "       print('¡¡ Got one !! ', p, 'is a Fibonacci prime!')\n",
        "   p = it.next_prime()"
      ],
      "metadata": {
        "colab": {
          "base_uri": "https://localhost:8080/"
        },
        "id": "XyiM8YaoRQli",
        "outputId": "aa37bfb9-f817-4fed-b8ab-cdd299d2ed28"
      },
      "execution_count": 17,
      "outputs": [
        {
          "output_type": "stream",
          "name": "stdout",
          "text": [
            "¡¡ Got one !!  433494437 is a Fibonacci prime!\n"
          ]
        }
      ]
    },
    {
      "cell_type": "code",
      "source": [],
      "metadata": {
        "id": "Ok2xgb1lX_SR"
      },
      "execution_count": null,
      "outputs": []
    }
  ]
}