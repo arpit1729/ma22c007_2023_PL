{
  "nbformat": 4,
  "nbformat_minor": 0,
  "metadata": {
    "colab": {
      "provenance": [],
      "authorship_tag": "ABX9TyNHmN2olloDlbxZT7UF1Lpw",
      "include_colab_link": true
    },
    "kernelspec": {
      "name": "python3",
      "display_name": "Python 3"
    },
    "language_info": {
      "name": "python"
    }
  },
  "cells": [
    {
      "cell_type": "markdown",
      "metadata": {
        "id": "view-in-github",
        "colab_type": "text"
      },
      "source": [
        "<a href=\"https://colab.research.google.com/github/arpit1729/ma22c007_2023_PL/blob/main/Assignments/Assignment_4/Argument_passing.ipynb\" target=\"_parent\"><img src=\"https://colab.research.google.com/assets/colab-badge.svg\" alt=\"Open In Colab\"/></a>"
      ]
    },
    {
      "cell_type": "code",
      "execution_count": 1,
      "metadata": {
        "id": "UmnYvpma62rI"
      },
      "outputs": [],
      "source": [
        "import numpy as np"
      ]
    },
    {
      "cell_type": "code",
      "source": [
        "def twice(w):\n",
        "  \"\"\"Replace w by 2*w\"\"\"\n",
        "  w *=2"
      ],
      "metadata": {
        "id": "x4Z2zHl-66dZ"
      },
      "execution_count": 2,
      "outputs": []
    },
    {
      "cell_type": "code",
      "source": [
        "x = \"hello\"\n",
        "print(id(x))"
      ],
      "metadata": {
        "colab": {
          "base_uri": "https://localhost:8080/"
        },
        "id": "MNd15Stb7R4d",
        "outputId": "f2806257-154f-4212-d31d-10978f70d8ee"
      },
      "execution_count": 3,
      "outputs": [
        {
          "output_type": "stream",
          "name": "stdout",
          "text": [
            "135147057617840\n"
          ]
        }
      ]
    },
    {
      "cell_type": "code",
      "source": [
        "x = 34\n",
        "print(id(x))"
      ],
      "metadata": {
        "colab": {
          "base_uri": "https://localhost:8080/"
        },
        "id": "iAMlq7i37ac8",
        "outputId": "5088f661-cd54-41f8-cb79-11eea9faeb4d"
      },
      "execution_count": 4,
      "outputs": [
        {
          "output_type": "stream",
          "name": "stdout",
          "text": [
            "135147280565520\n"
          ]
        }
      ]
    },
    {
      "cell_type": "code",
      "source": [
        "A = [2, 5, 1]\n",
        "new = twice(A)\n",
        "A  = np.array([2, 5, 1])\n",
        "original_id = id(A)\n",
        "print( \"meomery address of numpy array is:\",original_id)\n",
        "print()\n",
        "twice(A)\n",
        "new_id = id(A)\n",
        "print(\"meomery address of numpy array after passing function is:\",new_id)\n",
        "\n",
        "if original_id == new_id:\n",
        "   print(\"Found: Address has same before and after passing the function\")\n",
        "else:\n",
        "   print(\" Found: Address has not same before and after passing the function\")\n"
      ],
      "metadata": {
        "colab": {
          "base_uri": "https://localhost:8080/"
        },
        "id": "qCF3oIrV7iWK",
        "outputId": "91001cb8-7d94-4b59-d051-4c8574cca143"
      },
      "execution_count": 13,
      "outputs": [
        {
          "output_type": "stream",
          "name": "stdout",
          "text": [
            "meomery address of numpy array is: 135146170626864\n",
            "\n",
            "meomery address of numpy array after passing function is: 135146170626864\n",
            "Found: Address has same before and after passing the function\n"
          ]
        }
      ]
    },
    {
      "cell_type": "code",
      "source": [
        "A = \"Hello I am Arpit\"\n",
        "original_id = id(A)\n",
        "print(A)\n",
        "print(\"meomery of string A is :\", original_id)\n",
        "y = np.array(A)\n",
        "print(y)\n",
        "new_id = id(y)\n",
        "print( \"meomery address of numpy string is:\", new_id)\n",
        "\n",
        "if original_id == new_id:\n",
        "    print(\" Found:  Both has same Address \")\n",
        "else:\n",
        "    print(\" Found: Both has not same Address\")\n",
        "\n",
        ""
      ],
      "metadata": {
        "colab": {
          "base_uri": "https://localhost:8080/"
        },
        "id": "4oJc9Ef89DVJ",
        "outputId": "7ce610fe-af8e-4491-b6c1-a87b91c2c3f6"
      },
      "execution_count": 23,
      "outputs": [
        {
          "output_type": "stream",
          "name": "stdout",
          "text": [
            "Hello I am Arpit\n",
            "meomery of string A is : 135146170729216\n",
            "Hello I am Arpit\n",
            "meomery address of numpy string is: 135146170720368\n",
            " Found: Both has not same Address\n"
          ]
        }
      ]
    },
    {
      "cell_type": "code",
      "source": [],
      "metadata": {
        "id": "cgVIbJxRCGWc"
      },
      "execution_count": null,
      "outputs": []
    }
  ]
}