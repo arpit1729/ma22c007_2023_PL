{
  "nbformat": 4,
  "nbformat_minor": 0,
  "metadata": {
    "colab": {
      "provenance": [],
      "authorship_tag": "ABX9TyMlxEsXrwqdREwERbITwH++",
      "include_colab_link": true
    },
    "kernelspec": {
      "name": "python3",
      "display_name": "Python 3"
    },
    "language_info": {
      "name": "python"
    }
  },
  "cells": [
    {
      "cell_type": "markdown",
      "metadata": {
        "id": "view-in-github",
        "colab_type": "text"
      },
      "source": [
        "<a href=\"https://colab.research.google.com/github/arpit1729/ma22c007_2023_PL/blob/main/Assignments/Assignment_8/Null_space.ipynb\" target=\"_parent\"><img src=\"https://colab.research.google.com/assets/colab-badge.svg\" alt=\"Open In Colab\"/></a>"
      ]
    },
    {
      "cell_type": "code",
      "execution_count": 1,
      "metadata": {
        "colab": {
          "base_uri": "https://localhost:8080/"
        },
        "id": "2SnmqnJVVsnP",
        "outputId": "f8da5de4-c5f5-4a15-de9e-38e4ee876346"
      },
      "outputs": [
        {
          "output_type": "stream",
          "name": "stdout",
          "text": [
            "Null space using SVD:\n",
            "[-0.87219483  0.3573579   0.29073161 -0.14709627 -0.07354813]\n"
          ]
        }
      ],
      "source": [
        "import numpy as np\n",
        "from scipy.linalg import svd\n",
        "# We have the matrix A\n",
        "A = np.array([[1, -2, 9, 5, 4], [1, -1, 6, 5, -3], [-2, 0, -6, 1, -2], [4, 1, 9, 1, -9]])\n",
        "# Let's Perform SVD on A\n",
        "u, s, vh = svd(A)\n",
        "# For finding the null space from SVD\n",
        "null_space_svd = vh.T[:, np.where(s < 1e-10)].squeeze()\n",
        "print(\"Null space by using SVD:\")\n",
        "print(null_space_svd)"
      ]
    },
    {
      "cell_type": "code",
      "source": [
        "from scipy.linalg import qr\n",
        "A = np.array([[1, -2, 9, 5, 4], [1, -1, 6, 5, -3], [-2, 0, -6, 1, -2], [4, 1, 9, 1, -9]])\n",
        "# For Performing the QR factorization on the transpose of A\n",
        "Q, R = qr(A.T)\n",
        "null_space_qr = Q[:, np.where(np.abs(np.diag(R)) < 1e-10)].squeeze()\n",
        "print(\"Null space by using QR factorization (orthogonal complement of range of transpose A):\")\n",
        "print(null_space_qr)\n"
      ],
      "metadata": {
        "colab": {
          "base_uri": "https://localhost:8080/"
        },
        "id": "vS1RmLEEWYXQ",
        "outputId": "61261130-e9d9-478b-f8ff-2e22440aa2c6"
      },
      "execution_count": 2,
      "outputs": [
        {
          "output_type": "stream",
          "name": "stdout",
          "text": [
            "Null space using QR factorization (orthogonal complement of range of transpose A):\n",
            "[ 0.57324869  0.68751498 -0.1910829   0.36021819  0.18010909]\n"
          ]
        }
      ]
    },
    {
      "cell_type": "code",
      "source": [
        "span_same_space = np.allclose(null_space_svd, null_space_qr)\n",
        "if span_same_space:\n",
        "    print(\"Both null spaces span the same vector subspace.\")\n",
        "else:\n",
        "    print(\"Both null spaces do not span the  same vector subspace.\")\n",
        ""
      ],
      "metadata": {
        "colab": {
          "base_uri": "https://localhost:8080/"
        },
        "id": "azDsswPWWyn4",
        "outputId": "8375c24f-4cf9-4945-a843-b03ca40d00d9"
      },
      "execution_count": 4,
      "outputs": [
        {
          "output_type": "stream",
          "name": "stdout",
          "text": [
            "Both null spaces do not span the  same vector subspace.\n"
          ]
        }
      ]
    },
    {
      "cell_type": "code",
      "source": [],
      "metadata": {
        "id": "eDNUsUqqW9Mh"
      },
      "execution_count": null,
      "outputs": []
    }
  ]
}