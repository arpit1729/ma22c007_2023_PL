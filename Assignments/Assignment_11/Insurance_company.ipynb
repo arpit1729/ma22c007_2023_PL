{
  "nbformat": 4,
  "nbformat_minor": 0,
  "metadata": {
    "colab": {
      "provenance": [],
      "authorship_tag": "ABX9TyPQDl7MNHP+RJhvgHV8nnKr",
      "include_colab_link": true
    },
    "kernelspec": {
      "name": "python3",
      "display_name": "Python 3"
    },
    "language_info": {
      "name": "python"
    }
  },
  "cells": [
    {
      "cell_type": "markdown",
      "metadata": {
        "id": "view-in-github",
        "colab_type": "text"
      },
      "source": [
        "<a href=\"https://colab.research.google.com/github/arpit1729/ma22c007_2023_PL/blob/main/Assignments/Assignment_11/Insurance_company.ipynb\" target=\"_parent\"><img src=\"https://colab.research.google.com/assets/colab-badge.svg\" alt=\"Open In Colab\"/></a>"
      ]
    },
    {
      "cell_type": "code",
      "execution_count": 2,
      "metadata": {
        "colab": {
          "base_uri": "https://localhost:8080/"
        },
        "id": "LSIGOj1bKzUN",
        "outputId": "d867b2e2-9e71-4114-a858-c86320a8090f"
      },
      "outputs": [
        {
          "output_type": "stream",
          "name": "stdout",
          "text": [
            "Probability of hitting state 3 from state 0: 0.1250+0.0000j\n"
          ]
        }
      ],
      "source": [
        "import numpy as np\n",
        "import networkx as nx\n",
        "# Defining the transition probability matrix (P) for the Markov chain\n",
        "P = np.array([[0, 0.0, 0.5, 0.5],\n",
        "              [1.0, 0.0, 0.0, 0.0],\n",
        "              [0.0, 0.0, 0.0, 1.0],\n",
        "              [0, 1.0, 0.0, 0.0]])\n",
        "G = nx.DiGraph(P)\n",
        "eigenvalues, eigenvectors = np.linalg.eig(P)\n",
        "for i, eigenvalue in enumerate(eigenvalues):\n",
        "    if np.isclose(eigenvalue, 1):\n",
        "        steady_state_eigenvector = eigenvectors[:, i]\n",
        "        break\n",
        "steady_state_probabilities = steady_state_eigenvector / steady_state_eigenvector.sum()\n",
        "state_from = 0\n",
        "state_to = 3\n",
        "probability = steady_state_probabilities[state_from] * P[state_from][state_to]\n",
        "\n",
        "print(f\"Probability of hitting state {state_to} from state {state_from}: {probability:.4f}\")"
      ]
    },
    {
      "cell_type": "code",
      "source": [],
      "metadata": {
        "id": "jtZxQF4vLYtJ"
      },
      "execution_count": null,
      "outputs": []
    }
  ]
}