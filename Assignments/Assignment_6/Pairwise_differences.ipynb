{
  "nbformat": 4,
  "nbformat_minor": 0,
  "metadata": {
    "colab": {
      "provenance": [],
      "authorship_tag": "ABX9TyMQnn0vrdG4+F9TedVW9vK1",
      "include_colab_link": true
    },
    "kernelspec": {
      "name": "python3",
      "display_name": "Python 3"
    },
    "language_info": {
      "name": "python"
    }
  },
  "cells": [
    {
      "cell_type": "markdown",
      "metadata": {
        "id": "view-in-github",
        "colab_type": "text"
      },
      "source": [
        "<a href=\"https://colab.research.google.com/github/arpit1729/ma22c007_2023_PL/blob/main/Assignments/Assignment_6/Pairwise_differences.ipynb\" target=\"_parent\"><img src=\"https://colab.research.google.com/assets/colab-badge.svg\" alt=\"Open In Colab\"/></a>"
      ]
    },
    {
      "cell_type": "code",
      "execution_count": 2,
      "metadata": {
        "colab": {
          "base_uri": "https://localhost:8080/"
        },
        "id": "EA4vXns4vwaE",
        "outputId": "6f013ea5-0708-4f1f-9fab-527da5218dd8"
      },
      "outputs": [
        {
          "output_type": "stream",
          "name": "stdout",
          "text": [
            "[[ 0.          0.04940516 -0.24695756 -0.10849914  0.21880118]\n",
            " [-0.04940516  0.         -0.29636272 -0.15790429  0.16939602]\n",
            " [ 0.24695756  0.29636272  0.          0.13845842  0.46575874]\n",
            " [ 0.10849914  0.15790429 -0.13845842  0.          0.32730031]\n",
            " [-0.21880118 -0.16939602 -0.46575874 -0.32730031  0.        ]]\n"
          ]
        }
      ],
      "source": [
        "import numpy as np\n",
        "\n",
        "x = np.random.rand(5)\n",
        "\n",
        "Y = np.subtract.outer(x, x)\n",
        "print(Y)"
      ]
    },
    {
      "cell_type": "code",
      "source": [
        "A = np.zeros((5,5))\n",
        "for i in range(5):\n",
        "  for j in range (5):\n",
        "    A[i][j]=x[i]-x[j]\n",
        "\n",
        "print(A)"
      ],
      "metadata": {
        "colab": {
          "base_uri": "https://localhost:8080/"
        },
        "id": "Wh6MC_KUwHg5",
        "outputId": "53336016-ffb3-4c15-a3bd-66bbbe251625"
      },
      "execution_count": 3,
      "outputs": [
        {
          "output_type": "stream",
          "name": "stdout",
          "text": [
            "[[ 0.          0.04940516 -0.24695756 -0.10849914  0.21880118]\n",
            " [-0.04940516  0.         -0.29636272 -0.15790429  0.16939602]\n",
            " [ 0.24695756  0.29636272  0.          0.13845842  0.46575874]\n",
            " [ 0.10849914  0.15790429 -0.13845842  0.          0.32730031]\n",
            " [-0.21880118 -0.16939602 -0.46575874 -0.32730031  0.        ]]\n"
          ]
        }
      ]
    },
    {
      "cell_type": "code",
      "source": [],
      "metadata": {
        "id": "kyP8eb2VwpUf"
      },
      "execution_count": null,
      "outputs": []
    }
  ]
}