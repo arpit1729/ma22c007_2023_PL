{
  "nbformat": 4,
  "nbformat_minor": 0,
  "metadata": {
    "colab": {
      "provenance": [],
      "authorship_tag": "ABX9TyMMp3s5zqgwYsD62AkZ8F53",
      "include_colab_link": true
    },
    "kernelspec": {
      "name": "python3",
      "display_name": "Python 3"
    },
    "language_info": {
      "name": "python"
    }
  },
  "cells": [
    {
      "cell_type": "markdown",
      "metadata": {
        "id": "view-in-github",
        "colab_type": "text"
      },
      "source": [
        "<a href=\"https://colab.research.google.com/github/arpit1729/ma22c007_2023_PL/blob/main/Assignments/Assignment_6/Hausdorff_distance.ipynb\" target=\"_parent\"><img src=\"https://colab.research.google.com/assets/colab-badge.svg\" alt=\"Open In Colab\"/></a>"
      ]
    },
    {
      "cell_type": "code",
      "execution_count": 2,
      "metadata": {
        "colab": {
          "base_uri": "https://localhost:8080/"
        },
        "id": "oNm4czuVRYuk",
        "outputId": "403b4126-2693-472f-8d97-abd210979cf8"
      },
      "outputs": [
        {
          "output_type": "stream",
          "name": "stdout",
          "text": [
            "P= [[0.53025314 0.69358902]\n",
            " [0.79736224 0.13580508]\n",
            " [0.30293901 0.84235882]\n",
            " [0.07060195 0.54938245]\n",
            " [0.23572241 0.30786501]]\n",
            "\n",
            "\n",
            "\n",
            "Q= [[0.31102063 0.25915189]\n",
            " [0.42716045 0.20836397]\n",
            " [0.84042979 0.56844718]\n",
            " [0.91351535 0.01574551]\n",
            " [0.24748583 0.0254287 ]\n",
            " [0.0499458  0.91397657]\n",
            " [0.89253796 0.8510047 ]]\n"
          ]
        }
      ],
      "source": [
        "import numpy as np\n",
        "import math\n",
        "P = np.random.rand(5, 2)\n",
        "print(\"P=\",P)\n",
        "print(\"\\n\\n\")\n",
        "Q = np.random.rand(7, 2)\n",
        "print(\"Q=\",Q)"
      ]
    },
    {
      "cell_type": "code",
      "source": [
        "def euclid_dist(p1, p2):\n",
        "    sum=0\n",
        "    for i in range(2):\n",
        "      sum+=pow(p1[i]-p2[i],2)\n",
        "    return math.sqrt(sum)"
      ],
      "metadata": {
        "id": "-2-UBIHuTpig"
      },
      "execution_count": 4,
      "outputs": []
    },
    {
      "cell_type": "code",
      "source": [
        "def hausdorff_dist(P, Q):\n",
        "    max_hausdorff_dist = 0\n",
        "\n",
        "    for p in P:\n",
        "        min_dist_p_to_Q = np.inf\n",
        "        for q in Q:\n",
        "            dist = euclid_dist(p, q)\n",
        "            if dist < min_dist_p_to_Q:\n",
        "                min_dist_p_to_Q = dist\n",
        "\n",
        "        if min_dist_p_to_Q > max_hausdorff_dist:\n",
        "            max_hausdorff_dist = min_dist_p_to_Q\n",
        "\n",
        "    for q in Q:\n",
        "        min_dist_q_to_P = np.inf\n",
        "        for p in P:\n",
        "            distance = euclid_dist(q, p)\n",
        "            if dist < min_dist_q_to_P:\n",
        "                min_dist_q_to_P = dist\n",
        "\n",
        "        if min_dist_q_to_P > max_hausdorff_dist:\n",
        "            max_hausdorff_dist = min_dist_q_to_P\n",
        "\n",
        "    return max_hausdorff_dist"
      ],
      "metadata": {
        "id": "Rp44m7HoVb0Q"
      },
      "execution_count": 6,
      "outputs": []
    },
    {
      "cell_type": "code",
      "source": [
        "# Now computeing  the Hausdorff distance between P and Q\n",
        "hausdorff_dist_PQ = hausdorff_dist(P, Q)\n",
        "\n",
        "print(\"The Hausdorff distance between P and Q is:\", hausdorff_dist_PQ)"
      ],
      "metadata": {
        "colab": {
          "base_uri": "https://localhost:8080/"
        },
        "id": "VPfLIEKnXYuq",
        "outputId": "207e341b-ce78-46fd-db70-8e9ea5791b96"
      },
      "execution_count": 8,
      "outputs": [
        {
          "output_type": "stream",
          "name": "stdout",
          "text": [
            "The Hausdorff distance between P and Q is: 0.8522953657265391\n"
          ]
        }
      ]
    },
    {
      "cell_type": "code",
      "source": [],
      "metadata": {
        "id": "wwAr0X6GXwSw"
      },
      "execution_count": null,
      "outputs": []
    }
  ]
}