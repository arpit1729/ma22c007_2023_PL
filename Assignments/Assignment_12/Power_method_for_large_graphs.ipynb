{
  "nbformat": 4,
  "nbformat_minor": 0,
  "metadata": {
    "colab": {
      "provenance": [],
      "authorship_tag": "ABX9TyML2qsWGGINBuz3zPoSWDoE",
      "include_colab_link": true
    },
    "kernelspec": {
      "name": "python3",
      "display_name": "Python 3"
    },
    "language_info": {
      "name": "python"
    }
  },
  "cells": [
    {
      "cell_type": "markdown",
      "metadata": {
        "id": "view-in-github",
        "colab_type": "text"
      },
      "source": [
        "<a href=\"https://colab.research.google.com/github/arpit1729/ma22c007_2023_PL/blob/main/Assignments/Assignment_12/Power_method_for_large_graphs.ipynb\" target=\"_parent\"><img src=\"https://colab.research.google.com/assets/colab-badge.svg\" alt=\"Open In Colab\"/></a>"
      ]
    },
    {
      "cell_type": "code",
      "execution_count": 6,
      "metadata": {
        "colab": {
          "base_uri": "https://localhost:8080/"
        },
        "id": "jpFI-aCgb8ve",
        "outputId": "0463de50-f9db-4567-85f4-e4111ccc8ea6"
      },
      "outputs": [
        {
          "output_type": "stream",
          "name": "stdout",
          "text": [
            "[ 2.98220472 -4.70398142  5.43168988 -5.43168988  4.94655091 -4.18131682\n",
            "  3.29770061 -2.41408439  1.6093896  -0.92918152  0.39271832]\n"
          ]
        }
      ],
      "source": [
        "import numpy as np\n",
        "p = 0.4\n",
        "N = 10\n",
        "P = np.zeros((N + 1, N + 1))\n",
        "for i in range(N + 1):\n",
        "    P[i, i] = 1 - p\n",
        "    if i < N:\n",
        "        P[i, i + 1] = p\n",
        "    if i > 0:\n",
        "        P[i, i - 1] = 1 - p\n",
        "eigenvalues, eigenvectors = np.linalg.eig(P.T)\n",
        "stationary_distribution = np.real(eigenvectors[:, 0] / np.sum(eigenvectors[:, 0]))\n",
        "\n",
        "print(stationary_distribution)\n"
      ]
    },
    {
      "cell_type": "code",
      "source": [
        "N = 10\n",
        "r_values = [0.1, 0.01, 1e-3, 1e-4]\n",
        "for r in r_values:\n",
        "    P = np.zeros((N + 1, N + 1))\n",
        "    for i in range(N + 1):\n",
        "        P[i, i] = (1 - r) / (N + 1)\n",
        "        for j in range(N + 1):\n",
        "            if i != j:\n",
        "                P[i, j] = r / (N)\n",
        "\n",
        "    eigenvalues, eigenvectors = np.linalg.eig(P.T)\n",
        "    pagerank = np.real(eigenvectors[:, 0] / np.sum(eigenvectors[:, 0]))\n",
        "\n",
        "    print(f\"PageRank for r = {r}:\")\n",
        "    print(pagerank)\n"
      ],
      "metadata": {
        "colab": {
          "base_uri": "https://localhost:8080/"
        },
        "id": "2v4XFKnkcOcj",
        "outputId": "90d49a80-6cd6-445b-d46f-928dc4303173"
      },
      "execution_count": 7,
      "outputs": [
        {
          "output_type": "stream",
          "name": "stdout",
          "text": [
            "PageRank for r = 0.1:\n",
            "[ 2.64247001e+15 -2.64247001e+14 -2.64247001e+14 -2.64247001e+14\n",
            " -2.64247001e+14 -2.64247001e+14 -2.64247001e+14 -2.64247001e+14\n",
            " -2.64247001e+14 -2.64247001e+14 -2.64247001e+14]\n",
            "PageRank for r = 0.01:\n",
            "[ 3.15156973e+14 -3.15156973e+13 -3.15156973e+13 -3.15156973e+13\n",
            " -3.15156973e+13 -3.15156973e+13 -3.15156973e+13 -3.15156973e+13\n",
            " -3.15156973e+13 -3.15156973e+13 -3.15156973e+13]\n",
            "PageRank for r = 0.001:\n",
            "[-2.52218136e+13  2.52218136e+12  2.52218136e+12  2.52218136e+12\n",
            "  2.52218136e+12  2.52218136e+12  2.52218136e+12  2.52218136e+12\n",
            "  2.52218136e+12  2.52218136e+12  2.52218136e+12]\n",
            "PageRank for r = 0.0001:\n",
            "[-2.25407547e+12  2.25407547e+11  2.25407547e+11  2.25407547e+11\n",
            "  2.25407547e+11  2.25407547e+11  2.25407547e+11  2.25407547e+11\n",
            "  2.25407547e+11  2.25407547e+11  2.25407547e+11]\n"
          ]
        }
      ]
    },
    {
      "cell_type": "code",
      "source": [
        "def powerP(x, aPt, r=0.1, maxn=1000, tol=1e-10):\n",
        "    n = 1\n",
        "    prev_x = x\n",
        "\n",
        "    while n <= maxn:\n",
        "        x = (1 - r) * aPt(x) + r / len(x)\n",
        "        x /= np.linalg.norm(x, 1)\n",
        "\n",
        "        if np.linalg.norm(x - prev_x, 1) < tol:\n",
        "            return x\n",
        "\n",
        "        prev_x = x\n",
        "        n += 1\n",
        "\n",
        "    return x\n",
        "N = 100000\n",
        "r = 0.1\n",
        "def apply_Pt(x):\n",
        "      return P.T @ x\n",
        "P = np.zeros((N + 1, N + 1))\n",
        "for i in range(N + 1):\n",
        "    P[i, i] = 1.0 / (N + 1)\n",
        "    if i < N:\n",
        "        P[i, i + 1] = r\n",
        "        P[i, i] = 1 - r\n",
        "\n",
        "initial_distribution = np.random.rand(N + 1)\n",
        "initial_distribution /= np.sum(initial_distribution)\n",
        "\n",
        "pagerank = powerP(initial_distribution, apply_Pt, r=r)\n",
        "\n",
        "print(\"PageRank for r =\", r, \"and N =\", N, \"for the ruin state:\")\n",
        "print(pagerank)\n",
        ""
      ],
      "metadata": {
        "colab": {
          "base_uri": "https://localhost:8080/"
        },
        "id": "saqC2W2Ccfab",
        "outputId": "b703ac2a-f4ac-43bc-f9cd-4cc537f92cac"
      },
      "execution_count": 8,
      "outputs": [
        {
          "output_type": "stream",
          "name": "stdout",
          "text": [
            "PageRank for r = 0.1 and N = 100000 for the ruin state:\n",
            "[5.26315263e-06 7.75624737e-06 8.93719761e-06 ... 1.00000710e-05\n",
            " 1.00000710e-05 1.90001674e-06]\n"
          ]
        }
      ]
    },
    {
      "cell_type": "code",
      "source": [
        "N = 10\n",
        "r_values = [0.1, 0.01, 1e-3, 1e-4]\n",
        "\n",
        "for r in r_values:\n",
        "    P = np.zeros((N + 1, N + 1))\n",
        "    for i in range(N + 1):\n",
        "        P[i, i] = (1 - r) / (N + 1)\n",
        "        for j in range(N + 1):\n",
        "            if i != j:\n",
        "                P[i, j] = r / (N)\n",
        "\n",
        "    eigenvalues, eigenvectors = np.linalg.eig(P.T)\n",
        "    pagerank = np.real(eigenvectors[:, 0] / np.sum(eigenvectors[:, 0]))\n",
        "\n",
        "    print(f\"PageRank for r = {r}:\")\n",
        "    print(pagerank)"
      ],
      "metadata": {
        "colab": {
          "base_uri": "https://localhost:8080/"
        },
        "id": "bRAoNKAKd5sw",
        "outputId": "1306d33f-82e8-41ba-e6bc-172424a9a593"
      },
      "execution_count": 9,
      "outputs": [
        {
          "output_type": "stream",
          "name": "stdout",
          "text": [
            "PageRank for r = 0.1:\n",
            "[ 2.64247001e+15 -2.64247001e+14 -2.64247001e+14 -2.64247001e+14\n",
            " -2.64247001e+14 -2.64247001e+14 -2.64247001e+14 -2.64247001e+14\n",
            " -2.64247001e+14 -2.64247001e+14 -2.64247001e+14]\n",
            "PageRank for r = 0.01:\n",
            "[ 3.15156973e+14 -3.15156973e+13 -3.15156973e+13 -3.15156973e+13\n",
            " -3.15156973e+13 -3.15156973e+13 -3.15156973e+13 -3.15156973e+13\n",
            " -3.15156973e+13 -3.15156973e+13 -3.15156973e+13]\n",
            "PageRank for r = 0.001:\n",
            "[-2.52218136e+13  2.52218136e+12  2.52218136e+12  2.52218136e+12\n",
            "  2.52218136e+12  2.52218136e+12  2.52218136e+12  2.52218136e+12\n",
            "  2.52218136e+12  2.52218136e+12  2.52218136e+12]\n",
            "PageRank for r = 0.0001:\n",
            "[-2.25407547e+12  2.25407547e+11  2.25407547e+11  2.25407547e+11\n",
            "  2.25407547e+11  2.25407547e+11  2.25407547e+11  2.25407547e+11\n",
            "  2.25407547e+11  2.25407547e+11  2.25407547e+11]\n"
          ]
        }
      ]
    },
    {
      "cell_type": "code",
      "source": [
        "def powerP(x, aPt, r=0.1, maxn=1000, tol=1e-10):\n",
        "    n = 1\n",
        "    prev_x = x\n",
        "\n",
        "    while n <= maxn:\n",
        "        x = (1 - r) * aPt(x) + r / len(x)\n",
        "        x /= np.linalg.norm(x, 1)\n",
        "\n",
        "        if np.linalg.norm(x - prev_x, 1) < tol:\n",
        "            return x\n",
        "\n",
        "        prev_x = x\n",
        "        n += 1\n",
        "\n",
        "    return x\n",
        "\n",
        "N = 100000\n",
        "r = 0.1\n",
        "\n",
        "def apply_Pt(x):\n",
        "       return P.T @ x\n",
        "P = np.zeros((N + 1, N + 1))\n",
        "for i in range(N + 1):\n",
        "    P[i, i] = 1.0 / (N + 1)\n",
        "    if i < N:\n",
        "        P[i, i + 1] = r\n",
        "        P[i, i] = 1 - r\n",
        "\n",
        "initial_distribution = np.random.rand(N + 1)\n",
        "initial_distribution /= np.sum(initial_distribution)\n",
        "pagerank = powerP(initial_distribution, apply_Pt, r=r)\n",
        "print(\"PageRank for r =\", r, \"and N =\", N, \"for the ruin state:\")\n",
        "print(pagerank)"
      ],
      "metadata": {
        "colab": {
          "base_uri": "https://localhost:8080/"
        },
        "id": "z4ritCxKfSjb",
        "outputId": "6f51b88b-454f-4269-da81-6ff3fcdf93e3"
      },
      "execution_count": 10,
      "outputs": [
        {
          "output_type": "stream",
          "name": "stdout",
          "text": [
            "PageRank for r = 0.1 and N = 100000 for the ruin state:\n",
            "[5.26315263e-06 7.75624737e-06 8.93719761e-06 ... 1.00000710e-05\n",
            " 1.00000710e-05 1.90001674e-06]\n"
          ]
        }
      ]
    },
    {
      "cell_type": "code",
      "source": [
        "import numpy as np\n",
        "\n",
        "def powerP(x, aPt, r=0.1, maxn=1000, tol=1e-10):\n",
        "    n = 1\n",
        "    prev_x = x\n",
        "\n",
        "    while n <= maxn:\n",
        "        x = (1 - r) * aPt(x) + r / len(x)\n",
        "        x /= np.linalg.norm(x, 1)\n",
        "\n",
        "        if np.linalg.norm(x - prev_x, 1) < tol:\n",
        "            return x\n",
        "\n",
        "        prev_x = x\n",
        "        n += 1\n",
        "\n",
        "    return x\n",
        "\n",
        "def apply_Pt(x):\n",
        "    return P.T @ x\n",
        "\n",
        "N = 100000\n",
        "r = 0.1\n",
        "P = np.zeros((N + 1, N + 1))\n",
        "initial_distribution = np.ones(N + 1) / (N + 1)\n",
        "pagerank = powerP(initial_distribution, apply_Pt, r=r)\n",
        "print(\"PageRank for r = 0.1 and N = 100000:\")\n",
        "print(pagerank)"
      ],
      "metadata": {
        "colab": {
          "base_uri": "https://localhost:8080/"
        },
        "id": "lfb6A_hxftOD",
        "outputId": "b5f001c9-42fb-4a7b-c008-9ced8bd48b29"
      },
      "execution_count": 11,
      "outputs": [
        {
          "output_type": "stream",
          "name": "stdout",
          "text": [
            "PageRank for r = 0.1 and N = 100000:\n",
            "[9.9999e-06 9.9999e-06 9.9999e-06 ... 9.9999e-06 9.9999e-06 9.9999e-06]\n"
          ]
        }
      ]
    },
    {
      "cell_type": "code",
      "source": [],
      "metadata": {
        "id": "aJQidkRZg7nY"
      },
      "execution_count": null,
      "outputs": []
    }
  ]
}