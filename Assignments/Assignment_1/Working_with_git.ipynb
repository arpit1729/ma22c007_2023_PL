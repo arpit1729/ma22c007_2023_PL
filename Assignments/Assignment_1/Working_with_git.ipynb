{
  "nbformat": 4,
  "nbformat_minor": 0,
  "metadata": {
    "colab": {
      "provenance": [],
      "authorship_tag": "ABX9TyPWsLs9+KUyjX0Ece7U4PNB",
      "include_colab_link": true
    },
    "kernelspec": {
      "name": "python3",
      "display_name": "Python 3"
    },
    "language_info": {
      "name": "python"
    }
  },
  "cells": [
    {
      "cell_type": "markdown",
      "metadata": {
        "id": "view-in-github",
        "colab_type": "text"
      },
      "source": [
        "<a href=\"https://colab.research.google.com/github/arpit1729/ma22c007_2023_PL/blob/main/Assignments/Assignment_1/Working_with_git.ipynb\" target=\"_parent\"><img src=\"https://colab.research.google.com/assets/colab-badge.svg\" alt=\"Open In Colab\"/></a>"
      ]
    },
    {
      "cell_type": "code",
      "execution_count": null,
      "metadata": {
        "colab": {
          "base_uri": "https://localhost:8080/"
        },
        "id": "VACbZbRiu5FZ",
        "outputId": "66bcfee4-9b22-4001-9733-65bb894ab1c2"
      },
      "outputs": [
        {
          "output_type": "stream",
          "name": "stdout",
          "text": [
            "Collecting gitpython\n",
            "  Downloading GitPython-3.1.32-py3-none-any.whl (188 kB)\n",
            "\u001b[2K     \u001b[90m━━━━━━━━━━━━━━━━━━━━━━━━━━━━━━━━━━━━━━━\u001b[0m \u001b[32m188.5/188.5 kB\u001b[0m \u001b[31m3.4 MB/s\u001b[0m eta \u001b[36m0:00:00\u001b[0m\n",
            "\u001b[?25hCollecting gitdb<5,>=4.0.1 (from gitpython)\n",
            "  Downloading gitdb-4.0.10-py3-none-any.whl (62 kB)\n",
            "\u001b[2K     \u001b[90m━━━━━━━━━━━━━━━━━━━━━━━━━━━━━━━━━━━━━━━━\u001b[0m \u001b[32m62.7/62.7 kB\u001b[0m \u001b[31m5.6 MB/s\u001b[0m eta \u001b[36m0:00:00\u001b[0m\n",
            "\u001b[?25hCollecting smmap<6,>=3.0.1 (from gitdb<5,>=4.0.1->gitpython)\n",
            "  Downloading smmap-5.0.0-py3-none-any.whl (24 kB)\n",
            "Installing collected packages: smmap, gitdb, gitpython\n",
            "Successfully installed gitdb-4.0.10 gitpython-3.1.32 smmap-5.0.0\n"
          ]
        }
      ],
      "source": [
        "!pip install gitpython"
      ]
    },
    {
      "cell_type": "code",
      "source": [
        "from git.repo import Repo"
      ],
      "metadata": {
        "id": "4cQ9Uj4Zu7u6"
      },
      "execution_count": null,
      "outputs": []
    },
    {
      "cell_type": "code",
      "source": [
        "help(Repo.clone_from)"
      ],
      "metadata": {
        "colab": {
          "base_uri": "https://localhost:8080/"
        },
        "id": "f4tIXKG9v45q",
        "outputId": "33e34697-fd14-4bb0-e42c-27997ac7ea07"
      },
      "execution_count": null,
      "outputs": [
        {
          "output_type": "stream",
          "name": "stdout",
          "text": [
            "Help on method clone_from in module git.repo.base:\n",
            "\n",
            "clone_from(url: 'PathLike', to_path: 'PathLike', progress: 'Optional[Callable]' = None, env: 'Optional[Mapping[str, str]]' = None, multi_options: 'Optional[List[str]]' = None, allow_unsafe_protocols: 'bool' = False, allow_unsafe_options: 'bool' = False, **kwargs: 'Any') -> \"'Repo'\" method of builtins.type instance\n",
            "    Create a clone from the given URL\n",
            "    \n",
            "    :param url: valid git url, see http://www.kernel.org/pub/software/scm/git/docs/git-clone.html#URLS\n",
            "    :param to_path: Path to which the repository should be cloned to\n",
            "    :param progress: See 'git.remote.Remote.push'.\n",
            "    :param env: Optional dictionary containing the desired environment variables.\n",
            "        Note: Provided variables will be used to update the execution\n",
            "        environment for `git`. If some variable is not specified in `env`\n",
            "        and is defined in `os.environ`, value from `os.environ` will be used.\n",
            "        If you want to unset some variable, consider providing empty string\n",
            "        as its value.\n",
            "    :param multi_options: See ``clone`` method\n",
            "    :param allow_unsafe_protocols: Allow unsafe protocols to be used, like ext\n",
            "    :param allow_unsafe_options: Allow unsafe options to be used, like --upload-pack\n",
            "    :param kwargs: see the ``clone`` method\n",
            "    :return: Repo instance pointing to the cloned directory\n",
            "\n"
          ]
        }
      ]
    },
    {
      "cell_type": "code",
      "source": [
        "help(Repo.__init__)"
      ],
      "metadata": {
        "colab": {
          "base_uri": "https://localhost:8080/"
        },
        "id": "Ro5gWhz2v-ty",
        "outputId": "b60223b0-3176-436d-ed18-cce19c116733"
      },
      "execution_count": null,
      "outputs": [
        {
          "output_type": "stream",
          "name": "stdout",
          "text": [
            "Help on function __init__ in module git.repo.base:\n",
            "\n",
            "__init__(self, path: 'Optional[PathLike]' = None, odbt: 'Type[LooseObjectDB]' = <class 'git.db.GitCmdObjectDB'>, search_parent_directories: 'bool' = False, expand_vars: 'bool' = True) -> 'None'\n",
            "    Create a new Repo instance\n",
            "    \n",
            "    :param path:\n",
            "        the path to either the root git directory or the bare git repo::\n",
            "    \n",
            "            repo = Repo(\"/Users/mtrier/Development/git-python\")\n",
            "            repo = Repo(\"/Users/mtrier/Development/git-python.git\")\n",
            "            repo = Repo(\"~/Development/git-python.git\")\n",
            "            repo = Repo(\"$REPOSITORIES/Development/git-python.git\")\n",
            "            repo = Repo(\"C:\\Users\\mtrier\\Development\\git-python\\.git\")\n",
            "    \n",
            "        - In *Cygwin*, path may be a `'cygdrive/...'` prefixed path.\n",
            "        - If it evaluates to false, :envvar:`GIT_DIR` is used, and if this also evals to false,\n",
            "          the current-directory is used.\n",
            "    :param odbt:\n",
            "        Object DataBase type - a type which is constructed by providing\n",
            "        the directory containing the database objects, i.e. .git/objects. It will\n",
            "        be used to access all object data\n",
            "    :param search_parent_directories:\n",
            "        if True, all parent directories will be searched for a valid repo as well.\n",
            "    \n",
            "        Please note that this was the default behaviour in older versions of GitPython,\n",
            "        which is considered a bug though.\n",
            "    :raise InvalidGitRepositoryError:\n",
            "    :raise NoSuchPathError:\n",
            "    :return: git.Repo\n",
            "\n"
          ]
        }
      ]
    },
    {
      "cell_type": "code",
      "source": [
        "coursefolder = '/Users/Jay/tmpdir/'"
      ],
      "metadata": {
        "id": "UMhcaOjrwDg5"
      },
      "execution_count": null,
      "outputs": []
    },
    {
      "cell_type": "code",
      "source": [
        "import os\n",
        "os.path.abspath(coursefolder)"
      ],
      "metadata": {
        "colab": {
          "base_uri": "https://localhost:8080/",
          "height": 36
        },
        "id": "xWBlPWRxwIJv",
        "outputId": "85e74aa3-f850-4c15-90f0-e68baea2d8d6"
      },
      "execution_count": null,
      "outputs": [
        {
          "output_type": "execute_result",
          "data": {
            "text/plain": [
              "'/Users/Jay/tmpdir'"
            ],
            "application/vnd.google.colaboratory.intrinsic+json": {
              "type": "string"
            }
          },
          "metadata": {},
          "execution_count": 8
        }
      ]
    },
    {
      "cell_type": "code",
      "source": [
        "repodir = os.path.join(os.path.abspath(coursefolder), 'mth271content')\n",
        "repodir # full path name of the subfolder"
      ],
      "metadata": {
        "colab": {
          "base_uri": "https://localhost:8080/",
          "height": 36
        },
        "id": "ZVAQCeXXwLPM",
        "outputId": "8be288c3-066a-4fd0-c0ba-dbfbb7aed64b"
      },
      "execution_count": null,
      "outputs": [
        {
          "output_type": "execute_result",
          "data": {
            "text/plain": [
              "'/Users/Jay/tmpdir/mth271content'"
            ],
            "application/vnd.google.colaboratory.intrinsic+json": {
              "type": "string"
            }
          },
          "metadata": {},
          "execution_count": 9
        }
      ]
    },
    {
      "cell_type": "code",
      "source": [
        "os.path.isdir(repodir)"
      ],
      "metadata": {
        "colab": {
          "base_uri": "https://localhost:8080/"
        },
        "id": "ioT3m73ZwQKN",
        "outputId": "4c1bd29c-dd13-4291-a9de-e6289da214b0"
      },
      "execution_count": null,
      "outputs": [
        {
          "output_type": "execute_result",
          "data": {
            "text/plain": [
              "False"
            ]
          },
          "metadata": {},
          "execution_count": 10
        }
      ]
    },
    {
      "cell_type": "code",
      "source": [
        "if os.path.isdir(repodir): # if repo exists, pull newest data\n",
        "    repo = Repo(repodir)\n",
        "    repo.remotes.origin.pull()\n",
        "else: # otherwise, clone from remote\n",
        "    repo = Repo.clone_from('https://github.com/jayggg/mth271content',\n",
        "                           repodir)"
      ],
      "metadata": {
        "id": "kT4ADWHmwUvl"
      },
      "execution_count": null,
      "outputs": []
    },
    {
      "cell_type": "code",
      "source": [
        "repo.working_dir"
      ],
      "metadata": {
        "colab": {
          "base_uri": "https://localhost:8080/",
          "height": 36
        },
        "id": "toYFWYxnw7Km",
        "outputId": "4c665574-68f1-4964-c9d0-a13e2988799e"
      },
      "execution_count": null,
      "outputs": [
        {
          "output_type": "execute_result",
          "data": {
            "text/plain": [
              "'/Users/Jay/tmpdir/mth271content'"
            ],
            "application/vnd.google.colaboratory.intrinsic+json": {
              "type": "string"
            }
          },
          "metadata": {},
          "execution_count": 12
        }
      ]
    }
  ]
}