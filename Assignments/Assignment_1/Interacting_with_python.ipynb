{
  "nbformat": 4,
  "nbformat_minor": 0,
  "metadata": {
    "colab": {
      "provenance": [],
      "authorship_tag": "ABX9TyNG2NoP/HZ9JVR0/lP9/NoW",
      "include_colab_link": true
    },
    "kernelspec": {
      "name": "python3",
      "display_name": "Python 3"
    },
    "language_info": {
      "name": "python"
    }
  },
  "cells": [
    {
      "cell_type": "markdown",
      "metadata": {
        "id": "view-in-github",
        "colab_type": "text"
      },
      "source": [
        "<a href=\"https://colab.research.google.com/github/arpit1729/ma22c007_2023_PL/blob/main/Assignments/Assignment_1/Interacting_with_python.ipynb\" target=\"_parent\"><img src=\"https://colab.research.google.com/assets/colab-badge.svg\" alt=\"Open In Colab\"/></a>"
      ]
    },
    {
      "cell_type": "code",
      "execution_count": null,
      "metadata": {
        "colab": {
          "base_uri": "https://localhost:8080/"
        },
        "id": "JvqsukSatajk",
        "outputId": "66ad40e9-5b48-4c97-f75c-71948b6b93a9"
      },
      "outputs": [
        {
          "output_type": "execute_result",
          "data": {
            "text/plain": [
              "0.14008146171564725"
            ]
          },
          "metadata": {},
          "execution_count": 1
        }
      ],
      "source": [
        "from math import cos, sqrt, pi\n",
        "cos(pi*sqrt(pi))**7"
      ]
    },
    {
      "cell_type": "code",
      "source": [
        "# %load ../pyfiles/myfirstpy.py\n",
        "from math import cos, sqrt, pi\n",
        "print('Hello, I can compute! ')\n",
        "x = 3\n",
        "y = cos(pi*sqrt(pi)*x)**7\n",
        "print('Starting from x =', x, 'we have computed y=', y)"
      ],
      "metadata": {
        "colab": {
          "base_uri": "https://localhost:8080/"
        },
        "id": "Z0gkF84qtzvc",
        "outputId": "576b08df-5b74-41cf-b8e1-35a0ff3dddee"
      },
      "execution_count": null,
      "outputs": [
        {
          "output_type": "stream",
          "name": "stdout",
          "text": [
            "Hello, I can compute! \n",
            "Starting from x = 3 we have computed y= -0.013884089495354414\n"
          ]
        }
      ]
    },
    {
      "cell_type": "code",
      "source": [],
      "metadata": {
        "id": "WtGed56furLM"
      },
      "execution_count": null,
      "outputs": []
    }
  ]
}