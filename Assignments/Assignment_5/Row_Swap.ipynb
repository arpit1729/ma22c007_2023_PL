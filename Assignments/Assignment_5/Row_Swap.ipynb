{
  "nbformat": 4,
  "nbformat_minor": 0,
  "metadata": {
    "colab": {
      "provenance": [],
      "authorship_tag": "ABX9TyOLY3xsMgmIi3DN0MwvGYVG",
      "include_colab_link": true
    },
    "kernelspec": {
      "name": "python3",
      "display_name": "Python 3"
    },
    "language_info": {
      "name": "python"
    }
  },
  "cells": [
    {
      "cell_type": "markdown",
      "metadata": {
        "id": "view-in-github",
        "colab_type": "text"
      },
      "source": [
        "<a href=\"https://colab.research.google.com/github/arpit1729/ma22c007_2023_PL/blob/main/Assignments/Assignment_5/Row_Swap.ipynb\" target=\"_parent\"><img src=\"https://colab.research.google.com/assets/colab-badge.svg\" alt=\"Open In Colab\"/></a>"
      ]
    },
    {
      "cell_type": "code",
      "execution_count": 7,
      "metadata": {
        "colab": {
          "base_uri": "https://localhost:8080/"
        },
        "id": "5b78i1HfP4MP",
        "outputId": "3c2260fe-bfb5-4d19-b2a3-97f5cc5f1c7d"
      },
      "outputs": [
        {
          "output_type": "stream",
          "name": "stdout",
          "text": [
            "[[7 8 9]\n",
            " [4 5 6]\n",
            " [7 8 9]]\n"
          ]
        }
      ],
      "source": [
        "import numpy as np\n",
        "\n",
        "def given_swap_row(i, j, A):\n",
        "    temp = A[i, :]  #temp ='i'th row of A\n",
        "    A[i, :] = A[j, :]\n",
        "    A[j, :] = temp\n",
        "    return A\n",
        "\n",
        "A = np.array([[1, 2, 3],\n",
        "              [4, 5, 6],\n",
        "              [7, 8, 9]])\n",
        "\n",
        "result = given_swap_row(0, 2, A)\n",
        "\n",
        "print(result)"
      ]
    },
    {
      "cell_type": "code",
      "source": [
        "def modifide_swap_rows(i, j, A):\n",
        "  \"\"\"\n",
        "\n",
        "  swap row i and j in a numpy array A.\n",
        "\n",
        "  Parameters:\n",
        "  - i: Index of the first row to swap.\n",
        "  - j: Index of the second row to swap.\n",
        "  - A: The nupmy array with row i and j swapped.\n",
        "\n",
        "  returns:\n",
        "  -A: The numpy array with rows i and j swapped.\n",
        "  \"\"\"\n",
        "\n",
        "  if i< 0 or i >= len(A) or j < 0 or j >= len(A):\n",
        "     print(\"Invalid row indices.\")\n",
        "  else:\n",
        "     temp = A[i, :].copy()\n",
        "     A[i, :] = A[j, :]\n",
        "     A[j, :] = temp\n",
        "     return A\n",
        "\n",
        "A = np.array([[1, 2, 3],\n",
        "              [4, 5, 6],\n",
        "              [7, 8, 9]])\n",
        "\n",
        "restult = modifide_swap_rows(0, 2, A)\n",
        "\n",
        "print(result)"
      ],
      "metadata": {
        "colab": {
          "base_uri": "https://localhost:8080/"
        },
        "id": "EJ_D_6ASSi-V",
        "outputId": "686643fb-b0e4-4da9-81d1-ce9007a03dfc"
      },
      "execution_count": 9,
      "outputs": [
        {
          "output_type": "stream",
          "name": "stdout",
          "text": [
            "[[7 8 9]\n",
            " [4 5 6]\n",
            " [7 8 9]]\n"
          ]
        }
      ]
    },
    {
      "cell_type": "code",
      "source": [],
      "metadata": {
        "id": "BGo8yYRDX32b"
      },
      "execution_count": null,
      "outputs": []
    }
  ]
}